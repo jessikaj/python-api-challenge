{
 "cells": [
  {
   "cell_type": "markdown",
   "metadata": {},
   "source": [
    "# WeatherPy\n",
    "----\n",
    "\n",
    "#### Note\n",
    "* Instructions have been included for each segment. You do not have to follow them exactly, but they are included to help you think through the steps."
   ]
  },
  {
   "cell_type": "code",
   "execution_count": 1,
   "metadata": {
    "scrolled": true
   },
   "outputs": [],
   "source": [
    "# Dependencies and Setup\n",
    "import matplotlib.pyplot as plt\n",
    "import pandas as pd\n",
    "import numpy as np\n",
    "import requests\n",
    "import time\n",
    "import json\n",
    "from scipy.stats import linregress\n",
    "\n",
    "# Import API key\n",
    "from api_keys import weather_api_key\n",
    "\n",
    "# Incorporated citipy to determine city based on latitude and longitude\n",
    "from citipy import citipy\n",
    "\n",
    "# Output File (CSV)\n",
    "output_data_file = \"output_data\\\\cities.csv\"\n",
    "\n",
    "\n",
    "# Range of latitudes and longitudes\n",
    "lat_range = (-90, 90)\n",
    "lng_range = (-180, 180)"
   ]
  },
  {
   "cell_type": "markdown",
   "metadata": {},
   "source": [
    "## Generate Cities List"
   ]
  },
  {
   "cell_type": "code",
   "execution_count": 2,
   "metadata": {},
   "outputs": [
    {
     "data": {
      "text/plain": [
       "597"
      ]
     },
     "execution_count": 2,
     "metadata": {},
     "output_type": "execute_result"
    }
   ],
   "source": [
    "# List for holding lat_lngs and cities\n",
    "lat_lngs = []\n",
    "cities = []\n",
    "\n",
    "# Create a set of random lat and lng combinations\n",
    "lats = np.random.uniform(lat_range[0], lat_range[1], size=1500)\n",
    "lngs = np.random.uniform(lng_range[0], lng_range[1], size=1500)\n",
    "lat_lngs = zip(lats, lngs)\n",
    "\n",
    "# Identify nearest city for each lat, lng combination\n",
    "for lat_lng in lat_lngs:\n",
    "    city = citipy.nearest_city(lat_lng[0], lat_lng[1]).city_name\n",
    "    \n",
    "    # If the city is unique, then add it to a our cities list\n",
    "    if city not in cities:\n",
    "        cities.append(city)\n",
    "\n",
    "# Print the city count to confirm sufficient count\n",
    "len(cities)"
   ]
  },
  {
   "cell_type": "code",
   "execution_count": 3,
   "metadata": {
    "scrolled": true
   },
   "outputs": [
    {
     "name": "stdout",
     "output_type": "stream",
     "text": [
      "['barrow', 'mys shmidta', 'busselton', 'arraial do cabo', 'praia', 'nizhneyansk', 'acuitzio', 'ngukurr', 'nantucket', 'at-bashi', 'carnarvon', 'siocon', 'rikitea', 'mamit', 'deputatskiy', 'albany', 'jamestown', 'atuona', 'hasaki', 'jalu', 'yeniseysk', 'faanui', 'mataura', 'georgetown', 'chokurdakh', 'pangnirtung', 'mahebourg', 'inirida', 'hilo', 'yulara', 'dikson', 'nikolskoye', 'vaini', 'sao joao da barra', 'illoqqortoormiut', 'barentsburg', 'hithadhoo', 'chuy', 'san patricio', 'sentyabrskiy', 'tsihombe', 'fortuna', 'taolanaro', 'chimbote', 'sobolevo', 'sampit', 'barabai', 'port elizabeth', 'saint anthony', 'kairana', 'tual', 'tarrafal', 'yirol', 'shaoxing', 'punta arenas', 'halifax', 'kapaa', 'tuktoyaktuk', 'vao', 'gigmoto', 'sitka', 'olafsvik', 'sorland', 'bredasdorp', 'ribeira grande', 'vila franca do campo', 'monrovia', 'severo-kurilsk', 'bambous virieux', 'yellowknife', 'chernyshevskiy', 'amalapuram', 'upernavik', 'attawapiskat', 'cape town', 'charters towers', 'avera', 'sancti spiritus', 'tasiilaq', 'qaanaaq', 'hobart', 'belushya guba', 'mar del plata', 'hermanus', 'new norfolk', 'dunedin', 'taga', 'nainpur', 'saskylakh', 'chagda', 'butaritari', 'matara', 'bengkulu', 'ushuaia', 'lima', 'amderma', 'koulamoutou', 'caiaponia', 'kadaura', 'karaton', 'san cristobal', 'hirara', 'husavik', 'lumsden', 'victoria', 'lebu', 'adelaide', 'luderitz', 'mamallapuram', 'tlahualilo', 'bairiki', 'khandyga', 'grand river south east', 'port alfred', 'vardo', 'cervo', 'port blair', 'khor', 'saldanha', 'kungurtug', 'bluff', 'gornyy', 'katsuura', 'tura', 'warqla', 'mukhen', 'lorengau', 'brekstad', 'sitio novo do tocantins', 'sur', 'nouadhibou', 'constitucion', 'provideniya', 'trairi', 'nakuru', 'guerrero negro', 'poum', 'souillac', 'de aar', 'bethel', 'nuuk', 'puerto ayora', 'saint-denis', 'gorontalo', 'alofi', 'torbay', 'valdivia', 'kudahuvadhoo', 'erdenet', 'fare', 'puerto gaitan', 'kahului', 'sakakah', 'yumen', 'buin', 'jiddah', 'sambava', 'cherskiy', 'mata', 'te anau', 'esperance', 'kiunga', 'lata', 'dwarka', 'mayo', 'cotonou', 'matay', 'ayr', 'xiamen', 'narsaq', 'tutoia', 'trincomalee', 'lompoc', 'valencia', 'clyde river', 'muros', 'guymon', 'barbar', 'bathsheba', 'pevek', 'garowe', 'myitkyina', 'cairns', 'champerico', 'yialos', 'hofn', 'kamina', 'vydrino', 'naze', 'thompson', 'ostashkov', 'aklavik', 'dolbeau', 'dingle', 'muisne', 'pisco', 'longyearbyen', 'cabo san lucas', 'ancud', 'neuquen', 'rudbar', 'luau', 'moses lake', 'maniwaki', 'blois', 'mrirt', 'phalaborwa', 'sargur', 'bintulu', 'ponta do sol', 'saint-augustin', 'avarua', 'assiniboia', 'geraldton', 'akyab', 'lerwick', 'turan', 'asau', 'cayenne', 'sri aman', 'gorno-chuyskiy', 'bandarbeyla', 'fernley', 'homestead', 'codrington', 'mehran', 'coruripe', 'meridian', 'mount isa', 'tumannyy', 'redmond', 'san vicente', 'saint-philippe', 'mehamn', 'havoysund', 'leningradskiy', 'kaitangata', 'harnosand', 'cuenca', 'ketchikan', 'samarai', 'melfort', 'san quintin', 'praia da vitoria', 'vestmanna', 'oranjemund', 'grand gaube', 'talnakh', 'amapa', 'kumba', 'gannan', 'careiro da varzea', 'esmeraldas', 'sabha', 'iracoubo', 'jinxiang', 'bantacan', 'namatanai', 'xinzhou', 'tiksi', 'east london', 'bakaly', 'faya', 'isangel', 'castro', 'khatanga', 'nelson bay', 'ilulissat', 'fairbanks', 'grand haven', 'vaitupu', 'antigonish', 'kutum', 'dudinka', 'terrace bay', 'port hardy', 'baijiantan', 'denau', 'phrai bung', 'mayumba', 'hovd', 'collie', 'ginir', 'airai', 'road town', 'lolua', 'puerto quijarro', 'tres arroyos', 'damavand', 'scarborough', 'natal', 'karakendzha', 'inongo', 'flin flon', 'viet tri', 'kourou', 'kruisfontein', 'beli manastir', 'auki', 'harper', 'kavaratti', 'shiyan', 'nome', 'kodiak', 'saint-pierre', 'jaisalmer', 'najran', 'karratha', 'miranorte', 'lusambo', 'asfi', 'cseteny', 'kindu', 'viedma', 'laguna', 'berlevag', 'rio verde de mato grosso', 'somerset east', 'byron bay', 'gat', 'cidreira', 'mantua', 'solnechnyy', 'cabedelo', 'karaidel', 'mlimba', 'businga', 'valparaiso', 'tumut', 'nipawin', 'powell', 'brigantine', 'vila velha', 'quatre cocos', 'bytosh', 'portland', 'port keats', 'beyneu', 'herat', 'dalvik', 'itoman', 'sechenovo', 'iwanai', 'qasigiannguit', 'carballo', 'kurlovo', 'ugoofaaru', 'norman wells', 'muriwai beach', 'henties bay', 'sucre', 'tazmalt', 'zaozerne', 'taoudenni', 'thinadhoo', 'owando', 'buala', 'sao filipe', 'tuscaloosa', 'alegrete', 'shache', 'la rioja', 'fort nelson', 'hambantota', 'daru', 'yerbogachen', 'tevaitoa', 'sehithwa', 'ouahigouya', 'ormara', 'kijang', 'dubai', 'tuatapere', 'challans', 'montepuez', 'acapulco', 'malwan', 'qandala', 'hun', 'la romana', 'hami', 'amga', 'liberal', 'omsukchan', 'vaitape', 'mount gambier', 'chumikan', 'saint george', 'turbat', 'sola', 'san policarpo', 'altamira', 'alice town', 'beringovskiy', 'motril', 'bonthe', 'dalby', 'nishihara', 'urucara', 'athabasca', 'shubarkuduk', 'kadykchan', 'formoso do araguaia', 'margate', 'coquimbo', 'maningrida', 'zamosc', 'ulaangom', 'cap malheureux', 'skoghall', 'arlit', 'thoen', 'saint-joseph', 'baykit', 'yarada', 'broome', 'upington', 'grindavik', 'bemidji', 'atar', 'bubaque', 'pedasi', 'mumford', 'bumba', 'bushehr', 'hualmay', 'pipri', 'gasa', 'uige', 'pokosnoye', 'shushenskoye', 'araouane', 'ambulu', 'tashtyp', 'qaqortoq', 'kamenskoye', 'buriti alegre', 'lavrentiya', 'gillette', 'tocopilla', 'porto novo', 'chifeng', 'padang', 'bakel', 'san matias', 'madoc', 'ambagarh chauki', 'namibe', 'lagoa', 'bowen', 'ileza', 'port macquarie', 'sorvag', 'bonfim', 'alice springs', 'iqaluit', 'kidal', 'lindsay', 'port moresby', 'senmonorom', 'vestmannaeyjar', 'beaupre', 'koslan', 'carutapera', 'takoradi', 'la ronge', 'marcona', 'puerto escondido', 'katobu', 'kresttsy', 'yiyang', 'nemuro', 'koumac', 'chapais', 'zyryanka', 'la maddalena', 'west bay', 'langham', 'jipijapa', 'reichenau', 'fez', 'huarmey', 'dukat', 'rincon', 'powell river', 'moscow', 'pokrovsk-uralskiy', 'laramie', 'nysa', 'port pirie', 'abu dhabi', 'bara', 'libreville', 'mozarlandia', 'flinders', 'galbshtadt', 'satkhira', 'eureka', 'emba', 'antalaha', 'wattegama', 'preobrazheniye', 'altay', 'broken hill', 'jiujiang', 'kozhva', 'haibowan', 'grand centre', 'pantayivka', 'misratah', 'fallon', 'samalaeulu', 'lubango', 'wilmington', 'sarakhs', 'providencia', 'sidhi', 'surt', 'xinmin', 'nanortalik', 'jutai', 'shirokiy', 'saleaula', 'bannu', 'zhaotong', 'petauke', 'kailua', 'gardan diwal', 'hoskote', 'ilhabela', 'kalmunai', 'dunda', 'touros', 'bad sachsa', 'paraiso', 'toliary', 'sharan', 'sulzbach-rosenberg', 'azare', 'northam', 'port lincoln', 'yabelo', 'agirish', 'beloha', 'bam', 'port-gentil', 'bend', 'batticaloa', 'darnah', 'sanghar', 'taguatinga', 'hokitika', 'rabo de peixe', 'dumai', 'sandwick', 'umzimvubu', 'ponta delgada', 'doha', 'neiafu', 'mogadishu', 'moree', 'pringsewu', 'volgorechensk', 'komsomolskiy', 'shingu', 'alta floresta', 'saint-georges', 'orsha', 'mont-de-marsan', 'elizabeth city', 'lobito', 'garoua', 'gizo', 'tukrah', 'iquique', 'chomun', 'havre-saint-pierre', 'otane', 'mazatlan', 'scottsburgh', 'los andes', 'hurghada', 'dedougou', 'ola', 'bolungarvik', 'nabire', 'klaksvik', 'mugumu', 'tanout', 'trapani', 'verkhnyaya inta', 'prince rupert', 'wulanhaote', 'rock springs', 'rocha', 'zemio', 'causapscal']\n"
     ]
    }
   ],
   "source": [
    "print(cities)"
   ]
  },
  {
   "cell_type": "markdown",
   "metadata": {},
   "source": [
    "### Perform API Calls\n",
    "* Perform a weather check on each city using a series of successive API calls.\n",
    "* Include a print log of each city as it'sbeing processed (with the city number and city name).\n"
   ]
  },
  {
   "cell_type": "markdown",
   "metadata": {
    "scrolled": true
   },
   "source": [
    "url=\"http://api.openweathermap.org/data/2.5/weather?units=Imperial&APPID=\"+weather_api_key+\"&q=olga\"\n",
    "olga=requests.get(url).json()\n",
    "olga"
   ]
  },
  {
   "cell_type": "code",
   "execution_count": 4,
   "metadata": {},
   "outputs": [
    {
     "name": "stdout",
     "output_type": "stream",
     "text": [
      "Barrow [{'id': 804, 'main': 'Clouds', 'description': 'overcast clouds', 'icon': '04n'}] 5880054\n"
     ]
    }
   ],
   "source": [
    "weather_api_key='b7040594e7bfe4dfd4b7efa04aea91b9'\n",
    "counter=0\n",
    "for city in cities:\n",
    "    if counter == 1:\n",
    "        break\n",
    "    url=\"http://api.openweathermap.org/data/2.5/weather?units=Imperial&APPID=\"+weather_api_key+\"&q=\"+city\n",
    "    city=requests.get(url).json()\n",
    "    #print(city)\n",
    "    counter+=1\n",
    "    \n",
    "    name=city['name']\n",
    "    weather=city['weather']\n",
    "    idx=city['id']\n",
    "    print(name,weather,idx)\n",
    "    "
   ]
  },
  {
   "cell_type": "markdown",
   "metadata": {},
   "source": [
    "### Convert Raw Data to DataFrame\n",
    "* Export the city data into a .csv.\n",
    "* Display the DataFrame"
   ]
  },
  {
   "cell_type": "code",
   "execution_count": 5,
   "metadata": {},
   "outputs": [
    {
     "name": "stdout",
     "output_type": "stream",
     "text": [
      "{'coord': {'lon': -156.79, 'lat': 71.29}, 'weather': [{'id': 804, 'main': 'Clouds', 'description': 'overcast clouds', 'icon': '04n'}], 'base': 'stations', 'main': {'temp': 14, 'feels_like': -2.2, 'temp_min': 14, 'temp_max': 14, 'pressure': 1017, 'humidity': 78}, 'visibility': 10000, 'wind': {'speed': 18.34, 'deg': 80}, 'clouds': {'all': 90}, 'dt': 1604923378, 'sys': {'type': 1, 'id': 7649, 'country': 'US', 'sunrise': 1604952546, 'sunset': 1604967187}, 'timezone': -32400, 'id': 5880054, 'name': 'Barrow', 'cod': 200}\n",
      "{'cod': '404', 'message': 'city not found'}\n",
      "{'coord': {'lon': 115.33, 'lat': -33.65}, 'weather': [{'id': 500, 'main': 'Rain', 'description': 'light rain', 'icon': '10n'}], 'base': 'stations', 'main': {'temp': 52.16, 'feels_like': 40.53, 'temp_min': 48.99, 'temp_max': 55, 'pressure': 998, 'humidity': 66}, 'visibility': 10000, 'wind': {'speed': 17.09, 'deg': 242}, 'rain': {'1h': 0.18}, 'clouds': {'all': 43}, 'dt': 1604923379, 'sys': {'type': 3, 'id': 2011706, 'country': 'AU', 'sunrise': 1604869897, 'sunset': 1604919208}, 'timezone': 28800, 'id': 2075265, 'name': 'Busselton', 'cod': 200}\n",
      "{'coord': {'lon': -42.03, 'lat': -22.97}, 'weather': [{'id': 804, 'main': 'Clouds', 'description': 'overcast clouds', 'icon': '04d'}], 'base': 'stations', 'main': {'temp': 74.43, 'feels_like': 82.56, 'temp_min': 73.4, 'temp_max': 75.2, 'pressure': 1017, 'humidity': 100}, 'visibility': 7000, 'wind': {'speed': 3.36, 'deg': 70}, 'clouds': {'all': 90}, 'dt': 1604923223, 'sys': {'type': 1, 'id': 8326, 'country': 'BR', 'sunrise': 1604908704, 'sunset': 1604955939}, 'timezone': -10800, 'id': 3471451, 'name': 'Arraial do Cabo', 'cod': 200}\n",
      "{'coord': {'lon': -23.51, 'lat': 14.92}, 'weather': [{'id': 801, 'main': 'Clouds', 'description': 'few clouds', 'icon': '02d'}], 'base': 'stations', 'main': {'temp': 84.2, 'feels_like': 78.1, 'temp_min': 84.2, 'temp_max': 84.2, 'pressure': 1015, 'humidity': 62}, 'visibility': 10000, 'wind': {'speed': 24.16, 'deg': 30}, 'clouds': {'all': 20}, 'dt': 1604923380, 'sys': {'type': 1, 'id': 2462, 'country': 'CV', 'sunrise': 1604907182, 'sunset': 1604948571}, 'timezone': -3600, 'id': 3374333, 'name': 'Praia', 'cod': 200}\n",
      "{'cod': '404', 'message': 'city not found'}\n",
      "{'coord': {'lon': -101.98, 'lat': 20.34}, 'weather': [{'id': 803, 'main': 'Clouds', 'description': 'broken clouds', 'icon': '04n'}], 'base': 'stations', 'main': {'temp': 53.76, 'feels_like': 52.84, 'temp_min': 53.76, 'temp_max': 53.76, 'pressure': 1017, 'humidity': 83, 'sea_level': 1017, 'grnd_level': 832}, 'visibility': 10000, 'wind': {'speed': 1.19, 'deg': 154}, 'clouds': {'all': 52}, 'dt': 1604923380, 'sys': {'country': 'MX', 'sunrise': 1604926456, 'sunset': 1604966966}, 'timezone': -21600, 'id': 4000821, 'name': 'Acuitzio', 'cod': 200}\n",
      "{'cod': '404', 'message': 'city not found'}\n",
      "{'coord': {'lon': -70.1, 'lat': 41.28}, 'weather': [{'id': 800, 'main': 'Clear', 'description': 'clear sky', 'icon': '01d'}], 'base': 'stations', 'main': {'temp': 48.2, 'feels_like': 45.16, 'temp_min': 48.2, 'temp_max': 48.2, 'pressure': 1027, 'humidity': 100}, 'visibility': 10000, 'wind': {'speed': 4.7, 'deg': 220}, 'clouds': {'all': 1}, 'dt': 1604923257, 'sys': {'type': 1, 'id': 3218, 'country': 'US', 'sunrise': 1604920919, 'sunset': 1604957200}, 'timezone': -18000, 'id': 4944903, 'name': 'Nantucket', 'cod': 200}\n",
      "{'coord': {'lon': 75.81, 'lat': 41.17}, 'weather': [{'id': 802, 'main': 'Clouds', 'description': 'scattered clouds', 'icon': '03n'}], 'base': 'stations', 'main': {'temp': 35.98, 'feels_like': 31.37, 'temp_min': 35.98, 'temp_max': 35.98, 'pressure': 1025, 'humidity': 70, 'sea_level': 1025, 'grnd_level': 799}, 'visibility': 10000, 'wind': {'speed': 0.67, 'deg': 7}, 'clouds': {'all': 31}, 'dt': 1604923380, 'sys': {'country': 'KG', 'sunrise': 1604885856, 'sunset': 1604922220}, 'timezone': 21600, 'id': 1528796, 'name': 'At-Bashi', 'cod': 200}\n",
      "{'coord': {'lon': 113.63, 'lat': -24.87}, 'weather': [{'id': 803, 'main': 'Clouds', 'description': 'broken clouds', 'icon': '04n'}], 'base': 'stations', 'main': {'temp': 69.8, 'feels_like': 63.84, 'temp_min': 69.8, 'temp_max': 69.8, 'pressure': 1013, 'humidity': 88}, 'visibility': 10000, 'wind': {'speed': 20.8, 'deg': 220, 'gust': 32.21}, 'clouds': {'all': 75}, 'dt': 1604923380, 'sys': {'type': 1, 'id': 9505, 'country': 'AU', 'sunrise': 1604871186, 'sunset': 1604918736}, 'timezone': 28800, 'id': 2074865, 'name': 'Carnarvon', 'cod': 200}\n",
      "{'coord': {'lon': 122.14, 'lat': 7.71}, 'weather': [{'id': 803, 'main': 'Clouds', 'description': 'broken clouds', 'icon': '04n'}], 'base': 'stations', 'main': {'temp': 79.7, 'feels_like': 87.73, 'temp_min': 79.7, 'temp_max': 79.7, 'pressure': 1010, 'humidity': 82, 'sea_level': 1010, 'grnd_level': 1008}, 'visibility': 10000, 'wind': {'speed': 2.82, 'deg': 159}, 'clouds': {'all': 54}, 'dt': 1604923380, 'sys': {'country': 'PH', 'sunrise': 1604871673, 'sunset': 1604914163}, 'timezone': 28800, 'id': 1686123, 'name': 'Siocon', 'cod': 200}\n",
      "{'coord': {'lon': -134.97, 'lat': -23.12}, 'weather': [{'id': 500, 'main': 'Rain', 'description': 'light rain', 'icon': '10n'}], 'base': 'stations', 'main': {'temp': 72.97, 'feels_like': 69.55, 'temp_min': 72.97, 'temp_max': 72.97, 'pressure': 1016, 'humidity': 77, 'sea_level': 1016, 'grnd_level': 1013}, 'visibility': 10000, 'wind': {'speed': 15.73, 'deg': 94}, 'rain': {'1h': 0.44}, 'clouds': {'all': 45}, 'dt': 1604923381, 'sys': {'country': 'PF', 'sunrise': 1604930990, 'sunset': 1604978269}, 'timezone': -32400, 'id': 4030556, 'name': 'Rikitea', 'cod': 200}\n",
      "{'coord': {'lon': 92.48, 'lat': 23.93}, 'weather': [{'id': 701, 'main': 'Mist', 'description': 'mist', 'icon': '50n'}], 'base': 'stations', 'main': {'temp': 78.8, 'feels_like': 86.23, 'temp_min': 78.8, 'temp_max': 78.8, 'pressure': 1014, 'humidity': 83}, 'visibility': 4000, 'wind': {'speed': 3.36, 'deg': 350}, 'clouds': {'all': 20}, 'dt': 1604923241, 'sys': {'type': 1, 'id': 9122, 'country': 'IN', 'sunrise': 1604880069, 'sunset': 1604920006}, 'timezone': 19800, 'id': 1263983, 'name': 'Mamit', 'cod': 200}\n",
      "{'coord': {'lon': 139.9, 'lat': 69.3}, 'weather': [{'id': 800, 'main': 'Clear', 'description': 'clear sky', 'icon': '01n'}], 'base': 'stations', 'main': {'temp': -17.66, 'feels_like': -26.3, 'temp_min': -17.66, 'temp_max': -17.66, 'pressure': 1023, 'humidity': 89, 'sea_level': 1023, 'grnd_level': 944}, 'visibility': 10000, 'wind': {'speed': 3.15, 'deg': 268}, 'clouds': {'all': 2}, 'dt': 1604923381, 'sys': {'country': 'RU', 'sunrise': 1604878926, 'sunset': 1604898385}, 'timezone': 36000, 'id': 2028164, 'name': 'Deputatsky', 'cod': 200}\n",
      "{'coord': {'lon': -73.97, 'lat': 42.6}, 'weather': [{'id': 800, 'main': 'Clear', 'description': 'clear sky', 'icon': '01d'}], 'base': 'stations', 'main': {'temp': 40.33, 'feels_like': 36.28, 'temp_min': 35.6, 'temp_max': 45, 'pressure': 1028, 'humidity': 100}, 'visibility': 10000, 'wind': {'speed': 3.36, 'deg': 180}, 'clouds': {'all': 1}, 'dt': 1604923085, 'sys': {'type': 1, 'id': 3273, 'country': 'US', 'sunrise': 1604922024, 'sunset': 1604957952}, 'timezone': -18000, 'id': 5106841, 'name': 'Albany', 'cod': 200}\n",
      "{'coord': {'lon': -79.24, 'lat': 42.1}, 'weather': [{'id': 800, 'main': 'Clear', 'description': 'clear sky', 'icon': '01d'}], 'base': 'stations', 'main': {'temp': 50, 'feels_like': 43.7, 'temp_min': 50, 'temp_max': 50, 'pressure': 1027, 'humidity': 66}, 'visibility': 10000, 'wind': {'speed': 6.93, 'deg': 170}, 'clouds': {'all': 1}, 'dt': 1604923382, 'sys': {'type': 1, 'id': 4588, 'country': 'US', 'sunrise': 1604923222, 'sunset': 1604959284}, 'timezone': -18000, 'id': 5122534, 'name': 'Jamestown', 'cod': 200}\n",
      "{'coord': {'lon': -139.03, 'lat': -9.8}, 'weather': [{'id': 802, 'main': 'Clouds', 'description': 'scattered clouds', 'icon': '03n'}], 'base': 'stations', 'main': {'temp': 77.14, 'feels_like': 77.67, 'temp_min': 77.14, 'temp_max': 77.14, 'pressure': 1012, 'humidity': 71, 'sea_level': 1012, 'grnd_level': 1010}, 'visibility': 10000, 'wind': {'speed': 10.04, 'deg': 66}, 'clouds': {'all': 25}, 'dt': 1604923382, 'sys': {'country': 'PF', 'sunrise': 1604933061, 'sunset': 1604978146}, 'timezone': -34200, 'id': 4020109, 'name': 'Atuona', 'cod': 200}\n",
      "{'coord': {'lon': 140.83, 'lat': 35.73}, 'weather': [{'id': 803, 'main': 'Clouds', 'description': 'broken clouds', 'icon': '04n'}], 'base': 'stations', 'main': {'temp': 49.84, 'feels_like': 46.26, 'temp_min': 46.4, 'temp_max': 51.8, 'pressure': 1016, 'humidity': 76}, 'visibility': 10000, 'wind': {'speed': 3.36, 'deg': 310}, 'clouds': {'all': 75}, 'dt': 1604923382, 'sys': {'type': 1, 'id': 7955, 'country': 'JP', 'sunrise': 1604869595, 'sunset': 1604907270}, 'timezone': 32400, 'id': 2112802, 'name': 'Hasaki', 'cod': 200}\n"
     ]
    },
    {
     "name": "stdout",
     "output_type": "stream",
     "text": [
      "{'coord': {'lon': 21.55, 'lat': 29.03}, 'weather': [{'id': 800, 'main': 'Clear', 'description': 'clear sky', 'icon': '01d'}], 'base': 'stations', 'main': {'temp': 74.64, 'feels_like': 67.35, 'temp_min': 74.64, 'temp_max': 74.64, 'pressure': 1018, 'humidity': 37, 'sea_level': 1018, 'grnd_level': 1014}, 'visibility': 10000, 'wind': {'speed': 11.56, 'deg': 314}, 'clouds': {'all': 0}, 'dt': 1604923382, 'sys': {'country': 'LY', 'sunrise': 1604897560, 'sunset': 1604936563}, 'timezone': 7200, 'id': 86049, 'name': 'Jalu', 'cod': 200}\n",
      "{'coord': {'lon': 92.17, 'lat': 58.45}, 'weather': [{'id': 804, 'main': 'Clouds', 'description': 'overcast clouds', 'icon': '04n'}], 'base': 'stations', 'main': {'temp': 35.31, 'feels_like': 27.7, 'temp_min': 35.31, 'temp_max': 35.31, 'pressure': 1008, 'humidity': 88, 'sea_level': 1008, 'grnd_level': 998}, 'visibility': 10000, 'wind': {'speed': 7.2, 'deg': 219}, 'clouds': {'all': 88}, 'dt': 1604923383, 'sys': {'country': 'RU', 'sunrise': 1604885182, 'sunset': 1604915041}, 'timezone': 25200, 'id': 1485997, 'name': 'Yeniseysk', 'cod': 200}\n",
      "{'coord': {'lon': -151.75, 'lat': -16.48}, 'weather': [{'id': 500, 'main': 'Rain', 'description': 'light rain', 'icon': '10n'}], 'base': 'stations', 'main': {'temp': 77.88, 'feels_like': 77.09, 'temp_min': 77.88, 'temp_max': 77.88, 'pressure': 1012, 'humidity': 82, 'sea_level': 1012, 'grnd_level': 1003}, 'visibility': 10000, 'wind': {'speed': 16.73, 'deg': 73}, 'rain': {'1h': 0.11}, 'clouds': {'all': 98}, 'dt': 1604923383, 'sys': {'country': 'PF', 'sunrise': 1604935585, 'sunset': 1604981729}, 'timezone': -36000, 'id': 4034551, 'name': 'Faanui', 'cod': 200}\n",
      "{'coord': {'lon': 168.86, 'lat': -46.19}, 'weather': [{'id': 802, 'main': 'Clouds', 'description': 'scattered clouds', 'icon': '03n'}], 'base': 'stations', 'main': {'temp': 46.99, 'feels_like': 43.27, 'temp_min': 46.99, 'temp_max': 46.99, 'pressure': 1024, 'humidity': 88}, 'visibility': 10000, 'wind': {'speed': 4, 'deg': 87, 'gust': 7}, 'clouds': {'all': 27}, 'dt': 1604923383, 'sys': {'type': 3, 'id': 2008959, 'country': 'NZ', 'sunrise': 1604941692, 'sunset': 1604994530}, 'timezone': 46800, 'id': 6201424, 'name': 'Mataura', 'cod': 200}\n",
      "{'coord': {'lon': 100.34, 'lat': 5.41}, 'weather': [{'id': 802, 'main': 'Clouds', 'description': 'scattered clouds', 'icon': '03n'}], 'base': 'stations', 'main': {'temp': 80.49, 'feels_like': 87.82, 'temp_min': 78.01, 'temp_max': 82.4, 'pressure': 1008, 'humidity': 78}, 'visibility': 8000, 'wind': {'speed': 3.36, 'deg': 290}, 'clouds': {'all': 40}, 'dt': 1604923383, 'sys': {'type': 1, 'id': 9429, 'country': 'MY', 'sunrise': 1604876737, 'sunset': 1604919564}, 'timezone': 28800, 'id': 1735106, 'name': 'George Town', 'cod': 200}\n",
      "{'coord': {'lon': 147.92, 'lat': 70.63}, 'weather': [{'id': 804, 'main': 'Clouds', 'description': 'overcast clouds', 'icon': '04n'}], 'base': 'stations', 'main': {'temp': -13.9, 'feels_like': -22.36, 'temp_min': -13.9, 'temp_max': -13.9, 'pressure': 1021, 'humidity': 90, 'sea_level': 1021, 'grnd_level': 1015}, 'visibility': 9991, 'wind': {'speed': 2.95, 'deg': 219}, 'clouds': {'all': 99}, 'dt': 1604923383, 'sys': {'country': 'RU', 'sunrise': 1604878276, 'sunset': 1604895185}, 'timezone': 39600, 'id': 2126123, 'name': 'Chokurdakh', 'cod': 200}\n",
      "{'coord': {'lon': -65.71, 'lat': 66.15}, 'weather': [{'id': 803, 'main': 'Clouds', 'description': 'broken clouds', 'icon': '04n'}], 'base': 'stations', 'main': {'temp': 6.55, 'feels_like': -0.99, 'temp_min': 6.55, 'temp_max': 6.55, 'pressure': 1012, 'humidity': 84, 'sea_level': 1012, 'grnd_level': 1012}, 'visibility': 10000, 'wind': {'speed': 2.42, 'deg': 47}, 'clouds': {'all': 81}, 'dt': 1604923383, 'sys': {'country': 'CA', 'sunrise': 1604926239, 'sunset': 1604949772}, 'timezone': -18000, 'id': 6096551, 'name': 'Pangnirtung', 'cod': 200}\n",
      "{'coord': {'lon': 57.7, 'lat': -20.41}, 'weather': [{'id': 802, 'main': 'Clouds', 'description': 'scattered clouds', 'icon': '03d'}], 'base': 'stations', 'main': {'temp': 78.8, 'feels_like': 78.15, 'temp_min': 78.8, 'temp_max': 78.8, 'pressure': 1019, 'humidity': 69}, 'visibility': 10000, 'wind': {'speed': 12.75, 'deg': 110}, 'clouds': {'all': 40}, 'dt': 1604923384, 'sys': {'type': 1, 'id': 2061, 'country': 'MU', 'sunrise': 1604884999, 'sunset': 1604931771}, 'timezone': 14400, 'id': 934322, 'name': 'Mahébourg', 'cod': 200}\n",
      "{'coord': {'lon': -67.92, 'lat': 3.87}, 'weather': [{'id': 804, 'main': 'Clouds', 'description': 'overcast clouds', 'icon': '04d'}], 'base': 'stations', 'main': {'temp': 76.44, 'feels_like': 85.39, 'temp_min': 76.44, 'temp_max': 76.44, 'pressure': 1012, 'humidity': 89, 'sea_level': 1012, 'grnd_level': 1001}, 'visibility': 10000, 'wind': {'speed': 0.45, 'deg': 40}, 'clouds': {'all': 98}, 'dt': 1604923384, 'sys': {'country': 'CO', 'sunrise': 1604917012, 'sunset': 1604960060}, 'timezone': -18000, 'id': 3671450, 'name': 'Inírida', 'cod': 200}\n",
      "{'coord': {'lon': -155.09, 'lat': 19.73}, 'weather': [{'id': 800, 'main': 'Clear', 'description': 'clear sky', 'icon': '01n'}], 'base': 'stations', 'main': {'temp': 68.29, 'feels_like': 66.13, 'temp_min': 66.99, 'temp_max': 69.8, 'pressure': 1017, 'humidity': 73}, 'visibility': 10000, 'wind': {'speed': 9.17, 'deg': 230}, 'clouds': {'all': 1}, 'dt': 1604923234, 'sys': {'type': 1, 'id': 7881, 'country': 'US', 'sunrise': 1604939157, 'sunset': 1604979760}, 'timezone': -36000, 'id': 5855927, 'name': 'Hilo', 'cod': 200}\n",
      "{'coord': {'lon': 130.99, 'lat': -25.24}, 'weather': [{'id': 803, 'main': 'Clouds', 'description': 'broken clouds', 'icon': '04n'}], 'base': 'stations', 'main': {'temp': 91.4, 'feels_like': 86.92, 'temp_min': 91.4, 'temp_max': 91.4, 'pressure': 1009, 'humidity': 18}, 'visibility': 10000, 'wind': {'speed': 4.7, 'deg': 10}, 'clouds': {'all': 80}, 'dt': 1604923384, 'sys': {'type': 1, 'id': 9487, 'country': 'AU', 'sunrise': 1604866987, 'sunset': 1604914601}, 'timezone': 34200, 'id': 6355222, 'name': 'Yulara', 'cod': 200}\n",
      "{'coord': {'lon': 80.55, 'lat': 73.51}, 'weather': [{'id': 804, 'main': 'Clouds', 'description': 'overcast clouds', 'icon': '04n'}], 'base': 'stations', 'main': {'temp': 3.65, 'feels_like': -8.36, 'temp_min': 3.65, 'temp_max': 3.65, 'pressure': 984, 'humidity': 94, 'sea_level': 984, 'grnd_level': 978}, 'visibility': 2205, 'wind': {'speed': 10.31, 'deg': 21}, 'clouds': {'all': 100}, 'dt': 1604923384, 'sys': {'country': 'RU', 'sunrise': 1604899785, 'sunset': 1604906017}, 'timezone': 25200, 'id': 1507390, 'name': 'Dikson', 'cod': 200}\n",
      "{'coord': {'lon': 30.79, 'lat': 59.7}, 'weather': [{'id': 804, 'main': 'Clouds', 'description': 'overcast clouds', 'icon': '04d'}], 'base': 'stations', 'main': {'temp': 40.62, 'feels_like': 30.61, 'temp_min': 38.89, 'temp_max': 42.01, 'pressure': 1019, 'humidity': 93}, 'visibility': 10000, 'wind': {'speed': 13.42, 'deg': 250}, 'clouds': {'all': 90}, 'dt': 1604923384, 'sys': {'type': 1, 'id': 8926, 'country': 'RU', 'sunrise': 1604900316, 'sunset': 1604929372}, 'timezone': 10800, 'id': 546105, 'name': 'Nikolskoye', 'cod': 200}\n",
      "{'coord': {'lon': -175.2, 'lat': -21.2}, 'weather': [{'id': 801, 'main': 'Clouds', 'description': 'few clouds', 'icon': '02n'}], 'base': 'stations', 'main': {'temp': 69.8, 'feels_like': 74.55, 'temp_min': 69.8, 'temp_max': 69.8, 'pressure': 1015, 'humidity': 94}, 'visibility': 10000, 'wind': {'speed': 3.36, 'deg': 100}, 'clouds': {'all': 20}, 'dt': 1604923384, 'sys': {'type': 1, 'id': 7285, 'country': 'TO', 'sunrise': 1605027190, 'sunset': 1605074194}, 'timezone': 46800, 'id': 4032243, 'name': 'Vaini', 'cod': 200}\n",
      "{'coord': {'lon': -41.05, 'lat': -21.64}, 'weather': [{'id': 804, 'main': 'Clouds', 'description': 'overcast clouds', 'icon': '04d'}], 'base': 'stations', 'main': {'temp': 77, 'feels_like': 85.55, 'temp_min': 77, 'temp_max': 77, 'pressure': 1016, 'humidity': 94}, 'visibility': 10000, 'wind': {'speed': 3.33, 'deg': 271}, 'clouds': {'all': 90}, 'dt': 1604923384, 'sys': {'type': 1, 'id': 8337, 'country': 'BR', 'sunrise': 1604908587, 'sunset': 1604955587}, 'timezone': -10800, 'id': 3448903, 'name': 'São João da Barra', 'cod': 200}\n",
      "{'cod': '404', 'message': 'city not found'}\n",
      "{'cod': '404', 'message': 'city not found'}\n",
      "{'coord': {'lon': 73.08, 'lat': -0.6}, 'weather': [{'id': 804, 'main': 'Clouds', 'description': 'overcast clouds', 'icon': '04d'}], 'base': 'stations', 'main': {'temp': 82.58, 'feels_like': 85.21, 'temp_min': 82.58, 'temp_max': 82.58, 'pressure': 1009, 'humidity': 78, 'sea_level': 1009, 'grnd_level': 1009}, 'visibility': 10000, 'wind': {'speed': 13.73, 'deg': 332}, 'clouds': {'all': 100}, 'dt': 1604923385, 'sys': {'country': 'MV', 'sunrise': 1604882841, 'sunset': 1604926546}, 'timezone': 18000, 'id': 1282256, 'name': 'Hithadhoo', 'cod': 200}\n"
     ]
    },
    {
     "name": "stdout",
     "output_type": "stream",
     "text": [
      "{'coord': {'lon': -53.46, 'lat': -33.7}, 'weather': [{'id': 804, 'main': 'Clouds', 'description': 'overcast clouds', 'icon': '04d'}], 'base': 'stations', 'main': {'temp': 67.05, 'feels_like': 63.19, 'temp_min': 67.05, 'temp_max': 67.05, 'pressure': 1021, 'humidity': 66, 'sea_level': 1021, 'grnd_level': 1020}, 'visibility': 10000, 'wind': {'speed': 9.75, 'deg': 74}, 'clouds': {'all': 98}, 'dt': 1604923385, 'sys': {'country': 'UY', 'sunrise': 1604910380, 'sunset': 1604959750}, 'timezone': -10800, 'id': 3443061, 'name': 'Chui', 'cod': 200}\n",
      "{'coord': {'lon': -97.52, 'lat': 28.02}, 'weather': [{'id': 741, 'main': 'Fog', 'description': 'fog', 'icon': '50n'}], 'base': 'stations', 'main': {'temp': 64.81, 'feels_like': 66.74, 'temp_min': 64.4, 'temp_max': 64.99, 'pressure': 1013, 'humidity': 100}, 'visibility': 10000, 'wind': {'speed': 5.82, 'deg': 120}, 'clouds': {'all': 20}, 'dt': 1604923385, 'sys': {'type': 1, 'id': 3705, 'country': 'US', 'sunrise': 1604926058, 'sunset': 1604965223}, 'timezone': -21600, 'id': 4726521, 'name': 'San Patricio', 'cod': 200}\n",
      "{'cod': '404', 'message': 'city not found'}\n"
     ]
    }
   ],
   "source": [
    "#create empty list\n",
    "city_data=[]\n",
    "for c in cities[:40]:\n",
    "# Parse the JSON and retrieve data\n",
    "    url=\"http://api.openweathermap.org/data/2.5/weather?units=Imperial&APPID=\"+weather_api_key+\"&q=\"+c\n",
    "    city_weather = requests.get(url)\n",
    "    city_weather = city_weather.json()\n",
    "    print(city_weather)\n",
    "    \n",
    "\n",
    "    if city_weather['cod']==200:\n",
    "        # Parse out the max temp, humidity, and cloudiness\n",
    "        city_lat = city_weather[\"coord\"][\"lat\"]\n",
    "        city_lng = city_weather[\"coord\"][\"lon\"]\n",
    "        city_max_temp = city_weather[\"main\"][\"temp_max\"]\n",
    "        city_humidity = city_weather[\"main\"][\"humidity\"]\n",
    "        city_clouds = city_weather[\"clouds\"][\"all\"]\n",
    "        city_wind = city_weather[\"wind\"][\"speed\"]\n",
    "        city_country = city_weather[\"sys\"][\"country\"]\n",
    "        city_date = city_weather[\"dt\"]\n",
    "        # Append the City information into city_data list\n",
    "        city_data.append({\"City\":city_weather['name'],\n",
    "                          \"Lat\": city_lat,\n",
    "                          \"Lng\": city_lng,\n",
    "                          \"Max Temp\": city_max_temp,\n",
    "                          \"Humidity\": city_humidity,\n",
    "                          \"Cloudiness\": city_clouds,\n",
    "                          \"Wind Speed\": city_wind,\n",
    "                          \"Country\": city_country,\n",
    "                          \"Date\": city_date})\n"
   ]
  },
  {
   "cell_type": "code",
   "execution_count": 6,
   "metadata": {},
   "outputs": [],
   "source": [
    "weather_df=pd.DataFrame(city_data)\n",
    "weather_df.to_csv(output_data_file, index=False)"
   ]
  },
  {
   "cell_type": "markdown",
   "metadata": {},
   "source": [
    "## Inspect the data and remove the cities where the humidity > 100%.\n",
    "----\n",
    "Skip this step if there are no cities that have humidity > 100%. "
   ]
  },
  {
   "cell_type": "code",
   "execution_count": 7,
   "metadata": {},
   "outputs": [
    {
     "data": {
      "text/html": [
       "<div>\n",
       "<style scoped>\n",
       "    .dataframe tbody tr th:only-of-type {\n",
       "        vertical-align: middle;\n",
       "    }\n",
       "\n",
       "    .dataframe tbody tr th {\n",
       "        vertical-align: top;\n",
       "    }\n",
       "\n",
       "    .dataframe thead th {\n",
       "        text-align: right;\n",
       "    }\n",
       "</style>\n",
       "<table border=\"1\" class=\"dataframe\">\n",
       "  <thead>\n",
       "    <tr style=\"text-align: right;\">\n",
       "      <th></th>\n",
       "      <th>City</th>\n",
       "      <th>Lat</th>\n",
       "      <th>Lng</th>\n",
       "      <th>Max Temp</th>\n",
       "      <th>Humidity</th>\n",
       "      <th>Cloudiness</th>\n",
       "      <th>Wind Speed</th>\n",
       "      <th>Country</th>\n",
       "      <th>Date</th>\n",
       "    </tr>\n",
       "  </thead>\n",
       "  <tbody>\n",
       "  </tbody>\n",
       "</table>\n",
       "</div>"
      ],
      "text/plain": [
       "Empty DataFrame\n",
       "Columns: [City, Lat, Lng, Max Temp, Humidity, Cloudiness, Wind Speed, Country, Date]\n",
       "Index: []"
      ]
     },
     "execution_count": 7,
     "metadata": {},
     "output_type": "execute_result"
    }
   ],
   "source": [
    "#  Get the indices of cities that have humidity over 100%.\n",
    "weather_df[weather_df['Humidity']>100]"
   ]
  },
  {
   "cell_type": "code",
   "execution_count": 8,
   "metadata": {},
   "outputs": [],
   "source": [
    "# Make a new DataFrame equal to the city data to drop all humidity outliers by index.\n",
    "# Passing \"inplace=False\" will make a copy of the city_data DataFrame, which we call \"clean_city_data\".\n"
   ]
  },
  {
   "cell_type": "markdown",
   "metadata": {},
   "source": [
    "## Plotting the Data\n",
    "* Use proper labeling of the plots using plot titles (including date of analysis) and axes labels.\n",
    "* Save the plotted figures as .pngs."
   ]
  },
  {
   "cell_type": "markdown",
   "metadata": {},
   "source": [
    "## Latitude vs. Temperature Plot"
   ]
  },
  {
   "cell_type": "code",
   "execution_count": 9,
   "metadata": {
    "scrolled": true
   },
   "outputs": [
    {
     "data": {
      "image/png": "[encoded data removed]",
      "text/plain": [
       "<Figure size 432x288 with 1 Axes>"
      ]
     },
     "metadata": {
      "needs_background": "light"
     },
     "output_type": "display_data"
    }
   ],
   "source": [
    "plt.scatter(weather_df[\"Lat\"], weather_df[\"Max Temp\"], marker=\"o\")\n",
    "plt.title(\"Latitude vs. Temperature Plot\")\n",
    "plt.ylabel(\"Max Temp\")\n",
    "plt.xlabel(\"Lat\")\n",
    "plt.grid(True)\n",
    "plt.show()"
   ]
  },
  {
   "cell_type": "markdown",
   "metadata": {},
   "source": [
    "## Latitude vs. Humidity Plot"
   ]
  },
  {
   "cell_type": "code",
   "execution_count": 10,
   "metadata": {},
   "outputs": [
    {
     "data": {
      "image/png": "[encoded data removed]",
      "text/plain": [
       "<Figure size 432x288 with 1 Axes>"
      ]
     },
     "metadata": {
      "needs_background": "light"
     },
     "output_type": "display_data"
    }
   ],
   "source": [
    "plt.scatter(weather_df[\"Lat\"], weather_df[\"Humidity\"], marker=\"o\")\n",
    "plt.title(\"Latitude vs. Humidity Plot\")\n",
    "plt.ylabel(\"Humidity\")\n",
    "plt.xlabel(\"Lat\")\n",
    "plt.grid(True)\n",
    "plt.show()"
   ]
  },
  {
   "cell_type": "markdown",
   "metadata": {},
   "source": [
    "## Latitude vs. Cloudiness Plot"
   ]
  },
  {
   "cell_type": "code",
   "execution_count": 11,
   "metadata": {},
   "outputs": [
    {
     "data": {
      "image/png": "[encoded data removed]",
      "text/plain": [
       "<Figure size 432x288 with 1 Axes>"
      ]
     },
     "metadata": {
      "needs_background": "light"
     },
     "output_type": "display_data"
    }
   ],
   "source": [
    "plt.scatter(weather_df[\"Lat\"], weather_df[\"Cloudiness\"], marker=\"o\")\n",
    "plt.title(\"Latitude vs. Cloudiness Plot\")\n",
    "plt.ylabel(\"Cloudiness\")\n",
    "plt.xlabel(\"Lat\")\n",
    "plt.grid(True)\n",
    "plt.show()"
   ]
  },
  {
   "cell_type": "markdown",
   "metadata": {},
   "source": [
    "## Latitude vs. Wind Speed Plot"
   ]
  },
  {
   "cell_type": "code",
   "execution_count": 12,
   "metadata": {},
   "outputs": [
    {
     "data": {
      "image/png": "[encoded data removed]",
      "text/plain": [
       "<Figure size 432x288 with 1 Axes>"
      ]
     },
     "metadata": {
      "needs_background": "light"
     },
     "output_type": "display_data"
    }
   ],
   "source": [
    "plt.scatter(weather_df[\"Lat\"], weather_df[\"Wind Speed\"], marker=\"o\")\n",
    "plt.title(\"Latitude vs. Wind Speed Plot\")\n",
    "plt.ylabel(\"Wind Speed\")\n",
    "plt.xlabel(\"Lat\")\n",
    "plt.grid(True)\n",
    "plt.show()"
   ]
  },
  {
   "cell_type": "markdown",
   "metadata": {},
   "source": [
    "## Linear Regression"
   ]
  },
  {
   "cell_type": "markdown",
   "metadata": {},
   "source": [
    "####  Northern Hemisphere - Max Temp vs. Latitude Linear Regression"
   ]
  },
  {
   "cell_type": "code",
   "execution_count": 13,
   "metadata": {
    "scrolled": true
   },
   "outputs": [
    {
     "data": {
      "image/png": "[encoded data removed]",
      "text/plain": [
       "<Figure size 432x288 with 1 Axes>"
      ]
     },
     "metadata": {
      "needs_background": "light"
     },
     "output_type": "display_data"
    },
    {
     "name": "stdout",
     "output_type": "stream",
     "text": [
      "The r-value is: -0.4541946676465035\n"
     ]
    }
   ],
   "source": [
    "x_values = weather_df['Lat']>=0\n",
    "y_values = weather_df['Max Temp']\n",
    "(slope, intercept, rvalue, pvalue, stderr) = linregress(x_values, y_values)\n",
    "regress_values = x_values * slope + intercept\n",
    "line_eq = \"y = \" + str(round(slope,2)) + \"x + \" + str(round(intercept,2))\n",
    "plt.scatter(x_values,y_values)\n",
    "plt.plot(x_values,regress_values,\"r-\")\n",
    "plt.annotate(line_eq,(1,2),fontsize=15,color=\"red\")\n",
    "plt.xlabel('Latitude')\n",
    "plt.ylabel('Max Temp')\n",
    "plt.show()\n",
    "\n",
    "print(f\"The r-value is: {rvalue}\")"
   ]
  },
  {
   "cell_type": "markdown",
   "metadata": {},
   "source": [
    "####  Southern Hemisphere - Max Temp vs. Latitude Linear Regression"
   ]
  },
  {
   "cell_type": "code",
   "execution_count": 14,
   "metadata": {},
   "outputs": [
    {
     "data": {
      "image/png": "[encoded data removed]",
      "text/plain": [
       "<Figure size 432x288 with 1 Axes>"
      ]
     },
     "metadata": {
      "needs_background": "light"
     },
     "output_type": "display_data"
    },
    {
     "name": "stdout",
     "output_type": "stream",
     "text": [
      "The r-value is: 0.4541946676465035\n"
     ]
    }
   ],
   "source": [
    "x_values = weather_df['Lat']<0\n",
    "y_values = weather_df['Max Temp']\n",
    "(slope, intercept, rvalue, pvalue, stderr) = linregress(x_values, y_values)\n",
    "regress_values = x_values * slope + intercept\n",
    "line_eq = \"y = \" + str(round(slope,2)) + \"x + \" + str(round(intercept,2))\n",
    "plt.scatter(x_values,y_values)\n",
    "plt.plot(x_values,regress_values,\"r-\")\n",
    "plt.annotate(line_eq,(1,2),fontsize=15,color=\"red\")\n",
    "plt.xlabel('Latitude')\n",
    "plt.ylabel('Max Temp')\n",
    "plt.show()\n",
    "print(f\"The r-value is: {rvalue}\")"
   ]
  },
  {
   "cell_type": "markdown",
   "metadata": {},
   "source": [
    "####  Northern Hemisphere - Humidity (%) vs. Latitude Linear Regression"
   ]
  },
  {
   "cell_type": "code",
   "execution_count": 15,
   "metadata": {},
   "outputs": [
    {
     "data": {
      "image/png": "[encoded data removed]",
      "text/plain": [
       "<Figure size 432x288 with 1 Axes>"
      ]
     },
     "metadata": {
      "needs_background": "light"
     },
     "output_type": "display_data"
    },
    {
     "name": "stdout",
     "output_type": "stream",
     "text": [
      "The r-value is: 0.15527816041898962\n"
     ]
    }
   ],
   "source": [
    "x_values = weather_df['Lat']>=0\n",
    "y_values = weather_df['Humidity']\n",
    "(slope, intercept, rvalue, pvalue, stderr) = linregress(x_values, y_values)\n",
    "regress_values = x_values * slope + intercept\n",
    "line_eq = \"y = \" + str(round(slope,2)) + \"x + \" + str(round(intercept,2))\n",
    "plt.scatter(x_values,y_values)\n",
    "plt.plot(x_values,regress_values,\"r-\")\n",
    "plt.annotate(line_eq,(1,2),fontsize=15,color=\"red\")\n",
    "plt.xlabel('Latitude')\n",
    "plt.ylabel('Humidity')\n",
    "plt.show()\n",
    "print(f\"The r-value is: {rvalue}\")"
   ]
  },
  {
   "cell_type": "markdown",
   "metadata": {},
   "source": [
    "####  Southern Hemisphere - Humidity (%) vs. Latitude Linear Regression"
   ]
  },
  {
   "cell_type": "code",
   "execution_count": 16,
   "metadata": {},
   "outputs": [
    {
     "data": {
      "image/png": "[encoded data removed]",
      "text/plain": [
       "<Figure size 432x288 with 1 Axes>"
      ]
     },
     "metadata": {
      "needs_background": "light"
     },
     "output_type": "display_data"
    },
    {
     "name": "stdout",
     "output_type": "stream",
     "text": [
      "The r-value is: -0.15527816041898962\n"
     ]
    }
   ],
   "source": [
    "x_values = weather_df['Lat']<0\n",
    "y_values = weather_df['Humidity']\n",
    "(slope, intercept, rvalue, pvalue, stderr) = linregress(x_values, y_values)\n",
    "regress_values = x_values * slope + intercept\n",
    "line_eq = \"y = \" + str(round(slope,2)) + \"x + \" + str(round(intercept,2))\n",
    "plt.scatter(x_values,y_values)\n",
    "plt.plot(x_values,regress_values,\"r-\")\n",
    "plt.annotate(line_eq,(1,2),fontsize=15,color=\"red\")\n",
    "plt.xlabel('Latitude')\n",
    "plt.ylabel('Humidity')\n",
    "plt.show()\n",
    "print(f\"The r-value is: {rvalue}\")"
   ]
  },
  {
   "cell_type": "markdown",
   "metadata": {},
   "source": [
    "####  Northern Hemisphere - Cloudiness (%) vs. Latitude Linear Regression"
   ]
  },
  {
   "cell_type": "code",
   "execution_count": 17,
   "metadata": {},
   "outputs": [
    {
     "ename": "SyntaxError",
     "evalue": "unmatched ')' (<ipython-input-17-26d16864eabd>, line 12)",
     "output_type": "error",
     "traceback": [
      "\u001b[1;36m  File \u001b[1;32m\"<ipython-input-17-26d16864eabd>\"\u001b[1;36m, line \u001b[1;32m12\u001b[0m\n\u001b[1;33m    print(f\"The r-value is: {rvalue}\"))\u001b[0m\n\u001b[1;37m                                      ^\u001b[0m\n\u001b[1;31mSyntaxError\u001b[0m\u001b[1;31m:\u001b[0m unmatched ')'\n"
     ]
    }
   ],
   "source": [
    "x_values = weather_df['Lat']>=0\n",
    "y_values = weather_df['Cloudiness']\n",
    "(slope, intercept, rvalue, pvalue, stderr) = linregress(x_values, y_values)\n",
    "regress_values = x_values * slope + intercept\n",
    "line_eq = \"y = \" + str(round(slope,2)) + \"x + \" + str(round(intercept,2))\n",
    "plt.scatter(x_values,y_values)\n",
    "plt.plot(x_values,regress_values,\"r-\")\n",
    "plt.annotate(line_eq,(1,2),fontsize=15,color=\"red\")\n",
    "plt.xlabel('Latitude')\n",
    "plt.ylabel('Cloudiness')\n",
    "plt.show()\n",
    "print(f\"The r-value is: {rvalue}\"))"
   ]
  },
  {
   "cell_type": "markdown",
   "metadata": {},
   "source": [
    "####  Southern Hemisphere - Cloudiness (%) vs. Latitude Linear Regression"
   ]
  },
  {
   "cell_type": "code",
   "execution_count": 18,
   "metadata": {},
   "outputs": [
    {
     "data": {
      "image/png": "[encoded data removed]",
      "text/plain": [
       "<Figure size 432x288 with 1 Axes>"
      ]
     },
     "metadata": {
      "needs_background": "light"
     },
     "output_type": "display_data"
    },
    {
     "name": "stdout",
     "output_type": "stream",
     "text": [
      "The r-value is: 0.24116942718890802\n"
     ]
    }
   ],
   "source": [
    "x_values = weather_df['Lat']<0\n",
    "y_values = weather_df['Cloudiness']\n",
    "(slope, intercept, rvalue, pvalue, stderr) = linregress(x_values, y_values)\n",
    "regress_values = x_values * slope + intercept\n",
    "line_eq = \"y = \" + str(round(slope,2)) + \"x + \" + str(round(intercept,2))\n",
    "plt.scatter(x_values,y_values)\n",
    "plt.plot(x_values,regress_values,\"r-\")\n",
    "plt.annotate(line_eq,(1,2),fontsize=15,color=\"red\")\n",
    "plt.xlabel('Latitude')\n",
    "plt.ylabel('Cloudiness')\n",
    "plt.show()\n",
    "print(f\"The r-value is: {rvalue}\")"
   ]
  },
  {
   "cell_type": "markdown",
   "metadata": {},
   "source": [
    "####  Northern Hemisphere - Wind Speed (mph) vs. Latitude Linear Regression"
   ]
  },
  {
   "cell_type": "code",
   "execution_count": 19,
   "metadata": {},
   "outputs": [
    {
     "data": {
      "image/png": "[encoded data removed]",
      "text/plain": [
       "<Figure size 432x288 with 1 Axes>"
      ]
     },
     "metadata": {
      "needs_background": "light"
     },
     "output_type": "display_data"
    },
    {
     "name": "stdout",
     "output_type": "stream",
     "text": [
      "The r-value is: -0.2968922656205383\n"
     ]
    }
   ],
   "source": [
    "x_values = weather_df['Lat']>=0\n",
    "y_values = weather_df['Wind Speed']\n",
    "(slope, intercept, rvalue, pvalue, stderr) = linregress(x_values, y_values)\n",
    "regress_values = x_values * slope + intercept\n",
    "line_eq = \"y = \" + str(round(slope,2)) + \"x + \" + str(round(intercept,2))\n",
    "plt.scatter(x_values,y_values)\n",
    "plt.plot(x_values,regress_values,\"r-\")\n",
    "plt.annotate(line_eq,(1,2),fontsize=15,color=\"red\")\n",
    "plt.xlabel('Latitude')\n",
    "plt.ylabel('Wind Speed')\n",
    "plt.show()\n",
    "print(f\"The r-value is: {rvalue}\")"
   ]
  },
  {
   "cell_type": "markdown",
   "metadata": {},
   "source": [
    "####  Southern Hemisphere - Wind Speed (mph) vs. Latitude Linear Regression"
   ]
  },
  {
   "cell_type": "code",
   "execution_count": 20,
   "metadata": {},
   "outputs": [
    {
     "data": {
      "image/png": "[encoded data removed]",
      "text/plain": [
       "<Figure size 432x288 with 1 Axes>"
      ]
     },
     "metadata": {
      "needs_background": "light"
     },
     "output_type": "display_data"
    },
    {
     "name": "stdout",
     "output_type": "stream",
     "text": [
      "The r-value is: 0.2968922656205383\n"
     ]
    }
   ],
   "source": [
    "x_values = weather_df['Lat']<0\n",
    "y_values = weather_df['Wind Speed']\n",
    "(slope, intercept, rvalue, pvalue, stderr) = linregress(x_values, y_values)\n",
    "regress_values = x_values * slope + intercept\n",
    "line_eq = \"y = \" + str(round(slope,2)) + \"x + \" + str(round(intercept,2))\n",
    "plt.scatter(x_values,y_values)\n",
    "plt.plot(x_values,regress_values,\"r-\")\n",
    "plt.annotate(line_eq,(1,2),fontsize=15,color=\"red\")\n",
    "plt.xlabel('Latitude')\n",
    "plt.ylabel('Wind Speed')\n",
    "plt.show()\n",
    "print(f\"The r-value is: {rvalue}\")"
   ]
  },
  {
   "cell_type": "code",
   "execution_count": null,
   "metadata": {},
   "outputs": [],
   "source": []
  }
 ],
 "metadata": {
  "anaconda-cloud": {},
  "kernel_info": {
   "name": "python3"
  },
  "kernelspec": {
   "display_name": "Python 3",
   "language": "python",
   "name": "python3"
  },
  "language_info": {
   "codemirror_mode": {
    "name": "ipython",
    "version": 3
   },
   "file_extension": ".py",
   "mimetype": "text/x-python",
   "name": "python",
   "nbconvert_exporter": "python",
   "pygments_lexer": "ipython3",
   "version": "3.8.3"
  },
  "latex_envs": {
   "LaTeX_envs_menu_present": true,
   "autoclose": false,
   "autocomplete": true,
   "bibliofile": "biblio.bib",
   "cite_by": "apalike",
   "current_citInitial": 1,
   "eqLabelWithNumbers": true,
   "eqNumInitial": 1,
   "hotkeys": {
    "equation": "Ctrl-E",
    "itemize": "Ctrl-I"
   },
   "labels_anchors": false,
   "latex_user_defs": false,
   "report_style_numbering": false,
   "user_envs_cfg": false
  },
  "nteract": {
   "version": "0.12.3"
  }
 },
 "nbformat": 4,
 "nbformat_minor": 2
}
