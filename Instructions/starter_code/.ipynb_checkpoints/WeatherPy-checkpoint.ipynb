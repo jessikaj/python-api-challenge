{
 "cells": [
  {
   "cell_type": "markdown",
   "metadata": {},
   "source": [
    "# WeatherPy\n",
    "----\n",
    "\n",
    "#### Note\n",
    "* Instructions have been included for each segment. You do not have to follow them exactly, but they are included to help you think through the steps."
   ]
  },
  {
   "cell_type": "code",
   "execution_count": 2,
   "metadata": {
    "scrolled": true
   },
   "outputs": [],
   "source": [
    "# Dependencies and Setup\n",
    "import matplotlib.pyplot as plt\n",
    "import pandas as pd\n",
    "import numpy as np\n",
    "import requests\n",
    "import time\n",
    "import json\n",
    "from scipy.stats import linregress\n",
    "\n",
    "# Import API key\n",
    "from api_keys import weather_api_key\n",
    "\n",
    "# Incorporated citipy to determine city based on latitude and longitude\n",
    "from citipy import citipy\n",
    "\n",
    "# Output File (CSV)\n",
    "output_data_file = \"output_data\\\\cities.csv\"\n",
    "\n",
    "\n",
    "# Range of latitudes and longitudes\n",
    "lat_range = (-90, 90)\n",
    "lng_range = (-180, 180)"
   ]
  },
  {
   "cell_type": "markdown",
   "metadata": {},
   "source": [
    "## Generate Cities List"
   ]
  },
  {
   "cell_type": "code",
   "execution_count": 3,
   "metadata": {},
   "outputs": [
    {
     "data": {
      "text/plain": [
       "632"
      ]
     },
     "execution_count": 3,
     "metadata": {},
     "output_type": "execute_result"
    }
   ],
   "source": [
    "# List for holding lat_lngs and cities\n",
    "lat_lngs = []\n",
    "cities = []\n",
    "\n",
    "# Create a set of random lat and lng combinations\n",
    "lats = np.random.uniform(lat_range[0], lat_range[1], size=1500)\n",
    "lngs = np.random.uniform(lng_range[0], lng_range[1], size=1500)\n",
    "lat_lngs = zip(lats, lngs)\n",
    "\n",
    "# Identify nearest city for each lat, lng combination\n",
    "for lat_lng in lat_lngs:\n",
    "    city = citipy.nearest_city(lat_lng[0], lat_lng[1]).city_name\n",
    "    \n",
    "    # If the city is unique, then add it to a our cities list\n",
    "    if city not in cities:\n",
    "        cities.append(city)\n",
    "\n",
    "# Print the city count to confirm sufficient count\n",
    "len(cities)"
   ]
  },
  {
   "cell_type": "code",
   "execution_count": 4,
   "metadata": {
    "scrolled": true
   },
   "outputs": [
    {
     "name": "stdout",
     "output_type": "stream",
     "text": [
      "['genhe', 'cidreira', 'upernavik', 'yenagoa', 'narsaq', 'matsanga', 'atuona', 'kemijarvi', 'katsuura', 'alekseyevsk', 'hobart', 'rikitea', 'albany', 'oistins', 'bredasdorp', 'aklavik', 'punta arenas', 'bluff', 'hermanus', 'cape town', 'ilulissat', 'nikolskoye', 'santa isabel do rio negro', 'saint george', 'pevek', 'mar del plata', 'bac lieu', 'phan thiet', 'ushuaia', 'guerrero negro', 'ossora', 'kapaa', 'georgetown', 'kieta', 'west bay', 'andenes', 'butaritari', 'medicine hat', 'brus laguna', 'busselton', 'port blair', 'tumannyy', 'jamestown', 'champerico', 'taoudenni', 'ljungby', 'ceres', 'churapcha', 'pisco', 'mataura', 'new norfolk', 'taolanaro', 'grand river south east', 'rio gallegos', 'arraial do cabo', 'mount vernon', 'chuy', 'burgeo', 'ahmadpur east', 'bend', 'tual', 'mys shmidta', 'tyup', 'east london', 'victoria', 'gimbi', 'tazovskiy', 'agirish', 'vaini', 'platonovka', 'puerto ayora', 'khatanga', 'esperance', 'abeokuta', 'kupino', 'berlevag', 'belushya guba', 'san jose', 'barrow', 'hithadhoo', 'qaanaaq', 'sambava', 'urambo', 'isangel', 'west odessa', 'mitsamiouli', 'comodoro rivadavia', 'chokurdakh', 'barentsburg', 'hilo', 'mahadday weyne', 'fukue', 'haines junction', 'taber', 'kyzyl-suu', 'saldanha', 'sarangani', 'ryazhsk', 'cherskiy', 'ilebo', 'san quintin', 'wad rawah', 'kavieng', 'hualmay', 'mari-turek', 'dhidhdhoo', 'phuthaditjhaba', 'inongo', 'provideniya', 'saskylakh', 'dikson', 'tuatapere', 'ukiah', 'higuey', 'kedrovyy', 'port alfred', 'pochutla', 'lebu', 'morondava', 'olafsvik', 'grindavik', 'harper', 'khulo', 'vila velha', 'tiksi', 'grand-lahou', 'louisbourg', 'maniitsoq', 'bairiki', 'lavrentiya', 'prince rupert', 'palora', 'gigmoto', 'curup', 'kushmurun', 'aksarka', 'severo-kurilsk', 'imbituba', 'mana', 'boguchany', 'ibanda', 'kolvereid', 'ankpa', 'airai', 'yellowknife', 'roebourne', 'sorland', 'biloela', 'bensonville', 'sandy bay', 'henderson', 'bethel', 'marsh harbour', 'dzhusaly', 'port lincoln', 'robe', 'jiuquan', 'hastings', 'thompson', 'baracoa', 'nurota', 'iqaluit', 'arboledas', 'brae', 'saint-philippe', 'kalengwa', 'fortuna', 'sao luiz gonzaga', 'kodiak', 'dosso', 'formoso do araguaia', 'marcona', 'mahebourg', 'lata', 'ituni', 'kirakira', 'faanui', 'alta floresta', 'sakakah', 'carnarvon', 'ancud', 'grand gaube', 'nizhneyansk', 'san nicolas', 'ribeira grande', 'kozhevnikovo', 'tiarei', 'the valley', 'sao filipe', 'kahului', 'adrar', 'waipawa', 'portland', 'bambous virieux', 'pimenta bueno', 'peniche', 'hurghada', 'lethem', 'castro', 'banda aceh', 'alice springs', 'clarence town', 'kizhinga', 'avarua', 'vaitupu', 'niquelandia', 'chokwe', 'torbay', 'whitecourt', 'boyolangu', 'luderitz', 'hirara', 'takoradi', 'sena madureira', 'eydhafushi', 'barstow', 'vestmanna', 'havre-saint-pierre', 'xining', 'natal', 'zhicheng', 'namatanai', 'lagoa', 'bengkulu', 'mercedes', 'chuchkovo', 'avera', 'damghan', 'lazaro cardenas', 'christchurch', 'kismayo', 'cabo san lucas', 'tuktoyaktuk', 'half moon bay', 'zavyalovo', 'nome', 'dunedin', 'namibe', 'blind river', 'faya', 'bubaque', 'codrington', 'warri', 'olenino', 'fernie', 'sarankhola', 'hasaki', 'tasiilaq', 'kindu', 'makakilo city', 'mandera', 'orangeburg', 'ponta do sol', 'benton harbor', 'alasehir', 'dodoma', 'nelson bay', 'lamar', 'kilindoni', 'lasa', 'port hardy', 'sentyabrskiy', 'sisophon', 'poum', 'valparaiso', 'san patricio', 'bodden town', 'oranjestad', 'mondlo', 'isla mujeres', 'turukhansk', 'flagstaff', 'nadym', 'ratnagiri', 'ati', 'kamenka', 'la ronge', 'qianguo', 'itarema', 'qianan', 'kaitangata', 'baykit', 'saint-andre-les-vergers', 'capitao poco', 'grootfontein', 'ettaiyapuram', 'fez', 'lompoc', 'port-cartier', 'punta cardon', 'sinnamary', 'wawa', 'kalmunai', 'vanavara', 'valdivia', 'vao', 'xinyang', 'port moresby', 'geraldton', 'skagastrond', 'olenegorsk', 'silyanah', 'atasu', 'ostrovnoy', 'tutubigan', 'celestun', 'hovd', 'vangaindrano', 'constitucion', 'yerofey pavlovich', 'kitimat', 'asau', 'kibala', 'alyangula', 'binulasan', 'los llanos de aridane', 'verkh-usugli', 'naze', 'aykhal', 'srednekolymsk', 'mehamn', 'norman wells', 'prince george', 'cockburn town', 'nioro', 'konakovo', 'pingliang', 'berberati', 'sao gabriel da cachoeira', 'bayir', 'vredendal', 'kruisfontein', 'khandyga', 'cap malheureux', 'port elizabeth', 'sorong', 'goteborg', 'hendijan', 'kuzhener', 'coquimbo', 'presidente dutra', 'tigzirt', 'mahajanga', 'sedelnikovo', 'illoqqortoormiut', 'souillac', 'dingle', 'gamba', 'chapada dos guimaraes', 'chadan', 'taksimo', 'gazanjyk', 'whitehorse', 'biak', 'nenjiang', 'komsomolskiy', 'bathsheba', 'skibbereen', 'bandar-e torkaman', 'samatau', 'perth', 'charlottetown', 'post falls', 'abu dhabi', 'viedma', 'talnakh', 'ruatoria', 'manati', 'padang', 'cacador', 'altay', 'chastyye', 'marseille', 'attawapiskat', 'iquitos', 'labuhan', 'sao felix do xingu', 'anjozorobe', 'khani', 'barbar', 'banjar', 'sitka', 'hihifo', 'macaboboni', 'longyearbyen', 'morant bay', 'clyde river', 'sao joao da barra', 'boa vista', 'tabiauea', 'bantogon', 'sabanalarga', 'vargashi', 'port hawkesbury', 'bereznik', 'gympie', 'ushtobe', 'alofi', 'laguna', 'kutum', 'talaya', 'bonthe', 'ahipara', 'charlottesville', 'nouadhibou', 'wright', 'dakoro', 'olonets', 'okahandja', 'pemangkat', 'wuwei', 'berbera', 'longlac', 'tukrah', 'klaksvik', 'harker heights', 'honiara', 'moramanga', 'umzimvubu', 'borlange', 'ferme-neuve', 'beloha', 'beatrice', 'madimba', 'kaputa', 'umba', 'kikwit', 'broken hill', 'weyburn', 'vanimo', 'buala', 'izhma', 'vila do maio', 'merauke', 'tomatlan', 'muisne', 'rungata', 'bereda', 'le port', 'deputatskiy', 'bolshoy kamen', 'mandurah', 'rumilly', 'mabaruma', 'goderich', 'veraval', 'grants', 'ocampo', 'jacmel', 'paciran', 'axim', 'karratha', 'cristalina', 'kavaratti', 'itaobim', 'taguatinga', 'saint-joseph', 'portales', 'vostok', 'lingao', 'tateyama', 'ordu', 'brignoles', 'sept-iles', 'moses lake', 'lida', 'sindand', 'polson', 'san pedro', 'utiroa', 'ust-kuyga', 'hofn', 'asosa', 'kyabe', 'coihaique', 'sompeta', 'faranah', 'ponta delgada', 'yumen', 'khomutovka', 'coahuayana', 'amderma', 'mount isa', 'halalo', 'tucuman', 'henties bay', 'solnechnyy', 'la crosse', 'haibowan', 'saint-paul', 'makinsk', 'meulaboh', 'iskateley', 'kitui', 'carauari', 'valle de juarez', 'bentiu', 'mogadishu', 'craig', 'manta', 'tsihombe', 'abu samrah', 'juifang', 'san cristobal', 'reconquista', 'orsk', 'kaeo', 'aripuana', 'gra liyia', 'presidencia roque saenz pena', 'zyryanka', 'letterkenny', 'puerto colombia', 'kalawit', 'nantucket', 'aberdare', 'humaita', 'sola', 'talara', 'bloomfield', 'cervo', 'santa marta', 'pyaozerskiy', 'ulladulla', 'rio grande', 'karauzyak', 'kalyazin', 'rancho palos verdes', 'kloulklubed', 'tairua', 'husavik', 'gari', 'sistranda', 'wairoa', 'nishihara', 'semnan', 'shar', 'conakry', 'pangnirtung', 'salinopolis', 'santa cruz', 'mantua', 'evanston', 'palmer', 'vila', 'conceicao das alagoas', 'daru', 'requena', 'esso', 'yerbogachen', 'angoche', 'mangrol', 'ishikari', 'hede', 'weligama', 'vestmannaeyjar', 'warrington', 'saleaula', 'havre', 'lolua', 'serenje', 'luba', 'havoysund', 'palabuhanratu', 'korla', 'qaqortoq', 'pittsburg', 'maragogi', 'tsaghkaber', 'namikupa', 'bilibino', 'skalistyy', 'samusu', 'chapais', 'richards bay', 'assis', 'sogne', 'basco', 'tallahassee', 'san juan', 'ialibu', 'khuzhir', 'marrakesh', 'byron bay', 'morros', 'bayburt', 'rawson', 'necochea', 'svelgen', 'yuzhou', 'paso de los toros', 'honningsvag', 'ayan', 'goundam', 'samarai', 'shelburne', 'maceio', 'sterling', 'kathu', 'kadykchan', 'maldonado', 'varzea da palma', 'mahibadhoo', 'payo', 'tezu', 'mao', 'saint-francois', 'bobon', 'marevo', 'hamilton', 'kaseda', 'sampit', 'sagaing', 'joao pinheiro', 'lillooet', 'saint-pierre', 'chenghai', 'big spring', 'catia la mar', 'erenhot', 'jalu', 'vila franca do campo', 'balykshi', 'saint anthony', 'voi', 'koszeg', 'mathathane', 'sur', 'terrace', 'makungu', 'marawi', 'zhigansk']\n"
     ]
    }
   ],
   "source": [
    "print(cities)"
   ]
  },
  {
   "cell_type": "markdown",
   "metadata": {},
   "source": [
    "### Perform API Calls\n",
    "* Perform a weather check on each city using a series of successive API calls.\n",
    "* Include a print log of each city as it'sbeing processed (with the city number and city name).\n"
   ]
  },
  {
   "cell_type": "markdown",
   "metadata": {
    "scrolled": true
   },
   "source": [
    "url=\"http://api.openweathermap.org/data/2.5/weather?units=Imperial&APPID=\"+weather_api_key+\"&q=olga\"\n",
    "olga=requests.get(url).json()\n",
    "olga"
   ]
  },
  {
   "cell_type": "code",
   "execution_count": 7,
   "metadata": {},
   "outputs": [
    {
     "name": "stdout",
     "output_type": "stream",
     "text": [
      "Genhe [{'id': 803, 'main': 'Clouds', 'description': 'broken clouds', 'icon': '04n'}] 2037252\n"
     ]
    }
   ],
   "source": [
    "\n",
    "counter=0\n",
    "for city in cities:\n",
    "    if counter == 1:\n",
    "        break\n",
    "    url=\"http://api.openweathermap.org/data/2.5/weather?units=Imperial&APPID=\"+weather_api_key+\"&q=\"+city\n",
    "    city=requests.get(url).json()\n",
    "    #print(city)\n",
    "    counter+=1\n",
    "    \n",
    "    name=city['name']\n",
    "    weather=city['weather']\n",
    "    idx=city['id']\n",
    "    print(name,weather,idx)\n",
    "    "
   ]
  },
  {
   "cell_type": "markdown",
   "metadata": {},
   "source": [
    "### Convert Raw Data to DataFrame\n",
    "* Export the city data into a .csv.\n",
    "* Display the DataFrame"
   ]
  },
  {
   "cell_type": "code",
   "execution_count": 8,
   "metadata": {},
   "outputs": [
    {
     "name": "stdout",
     "output_type": "stream",
     "text": [
      "{'coord': {'lon': 121.52, 'lat': 50.78}, 'weather': [{'id': 803, 'main': 'Clouds', 'description': 'broken clouds', 'icon': '04n'}], 'base': 'stations', 'main': {'temp': 5.83, 'feels_like': -2.34, 'temp_min': 5.83, 'temp_max': 5.83, 'pressure': 1025, 'humidity': 92, 'sea_level': 1025, 'grnd_level': 934}, 'visibility': 10000, 'wind': {'speed': 3.65, 'deg': 218}, 'clouds': {'all': 71}, 'dt': 1604924203, 'sys': {'country': 'CN', 'sunrise': 1604876356, 'sunset': 1604909778}, 'timezone': 28800, 'id': 2037252, 'name': 'Genhe', 'cod': 200}\n",
      "{'coord': {'lon': -50.21, 'lat': -30.18}, 'weather': [{'id': 500, 'main': 'Rain', 'description': 'light rain', 'icon': '10d'}], 'base': 'stations', 'main': {'temp': 69.64, 'feels_like': 65.39, 'temp_min': 69.64, 'temp_max': 69.64, 'pressure': 1017, 'humidity': 84, 'sea_level': 1017, 'grnd_level': 1016}, 'visibility': 10000, 'wind': {'speed': 16.62, 'deg': 70}, 'rain': {'1h': 0.21}, 'clouds': {'all': 98}, 'dt': 1604924217, 'sys': {'country': 'BR', 'sunrise': 1604909978, 'sunset': 1604958593}, 'timezone': -10800, 'id': 3466165, 'name': 'Cidreira', 'cod': 200}\n",
      "{'coord': {'lon': -56.15, 'lat': 72.79}, 'weather': [{'id': 804, 'main': 'Clouds', 'description': 'overcast clouds', 'icon': '04n'}], 'base': 'stations', 'main': {'temp': -1.64, 'feels_like': -14.3, 'temp_min': -1.64, 'temp_max': -1.64, 'pressure': 1002, 'humidity': 81, 'sea_level': 1002, 'grnd_level': 1002}, 'visibility': 10000, 'wind': {'speed': 10.87, 'deg': 19}, 'clouds': {'all': 88}, 'dt': 1604924218, 'sys': {'country': 'GL', 'sunrise': 1604930831, 'sunset': 1604940591}, 'timezone': -10800, 'id': 3418910, 'name': 'Upernavik', 'cod': 200}\n",
      "{'coord': {'lon': 6.26, 'lat': 4.92}, 'weather': [{'id': 500, 'main': 'Rain', 'description': 'light rain', 'icon': '10d'}], 'base': 'stations', 'main': {'temp': 90.36, 'feels_like': 99.7, 'temp_min': 90.36, 'temp_max': 90.36, 'pressure': 1012, 'humidity': 60, 'sea_level': 1012, 'grnd_level': 1011}, 'visibility': 10000, 'wind': {'speed': 1.32, 'deg': 241}, 'rain': {'1h': 0.56}, 'clouds': {'all': 46}, 'dt': 1604924219, 'sys': {'country': 'NG', 'sunrise': 1604899284, 'sunset': 1604942179}, 'timezone': 3600, 'id': 2318123, 'name': 'Yenagoa', 'cod': 200}\n",
      "{'coord': {'lon': -46.05, 'lat': 60.92}, 'weather': [{'id': 803, 'main': 'Clouds', 'description': 'broken clouds', 'icon': '04d'}], 'base': 'stations', 'main': {'temp': 28.4, 'feels_like': 23.56, 'temp_min': 28.4, 'temp_max': 28.4, 'pressure': 974, 'humidity': 86}, 'visibility': 10000, 'wind': {'speed': 0.6, 'deg': 264}, 'clouds': {'all': 75}, 'dt': 1604924220, 'sys': {'type': 1, 'id': 47, 'country': 'GL', 'sunrise': 1604919196, 'sunset': 1604947378}, 'timezone': -10800, 'id': 3421719, 'name': 'Narsaq', 'cod': 200}\n",
      "{'cod': '404', 'message': 'city not found'}\n",
      "{'coord': {'lon': -139.03, 'lat': -9.8}, 'weather': [{'id': 802, 'main': 'Clouds', 'description': 'scattered clouds', 'icon': '03n'}], 'base': 'stations', 'main': {'temp': 77.14, 'feels_like': 77.67, 'temp_min': 77.14, 'temp_max': 77.14, 'pressure': 1012, 'humidity': 71, 'sea_level': 1012, 'grnd_level': 1010}, 'visibility': 10000, 'wind': {'speed': 10.04, 'deg': 66}, 'clouds': {'all': 25}, 'dt': 1604924221, 'sys': {'country': 'PF', 'sunrise': 1604933061, 'sunset': 1604978146}, 'timezone': -34200, 'id': 4020109, 'name': 'Atuona', 'cod': 200}\n",
      "{'coord': {'lon': 27.43, 'lat': 66.71}, 'weather': [{'id': 800, 'main': 'Clear', 'description': 'clear sky', 'icon': '01d'}], 'base': 'stations', 'main': {'temp': 34.47, 'feels_like': 25.02, 'temp_min': 34.47, 'temp_max': 34.47, 'pressure': 1013, 'humidity': 86, 'sea_level': 1013, 'grnd_level': 995}, 'visibility': 10000, 'wind': {'speed': 10.11, 'deg': 307}, 'clouds': {'all': 7}, 'dt': 1604924221, 'sys': {'country': 'FI', 'sunrise': 1604904153, 'sunset': 1604927148}, 'timezone': 7200, 'id': 653272, 'name': 'Kemijärvi', 'cod': 200}\n",
      "{'coord': {'lon': 140.3, 'lat': 35.13}, 'weather': [{'id': 521, 'main': 'Rain', 'description': 'shower rain', 'icon': '09n'}], 'base': 'stations', 'main': {'temp': 55.83, 'feels_like': 46.08, 'temp_min': 55.4, 'temp_max': 55.99, 'pressure': 1016, 'humidity': 43}, 'visibility': 10000, 'wind': {'speed': 11.41, 'deg': 330}, 'clouds': {'all': 40}, 'dt': 1604924221, 'sys': {'type': 1, 'id': 8074, 'country': 'JP', 'sunrise': 1604869657, 'sunset': 1604907462}, 'timezone': 32400, 'id': 2112309, 'name': 'Katsuura', 'cod': 200}\n",
      "{'coord': {'lon': 108.35, 'lat': 57.84}, 'weather': [{'id': 804, 'main': 'Clouds', 'description': 'overcast clouds', 'icon': '04n'}], 'base': 'stations', 'main': {'temp': 34.38, 'feels_like': 27.55, 'temp_min': 34.38, 'temp_max': 34.38, 'pressure': 1011, 'humidity': 89, 'sea_level': 1011, 'grnd_level': 980}, 'visibility': 10000, 'wind': {'speed': 5.64, 'deg': 211}, 'clouds': {'all': 92}, 'dt': 1604924222, 'sys': {'country': 'RU', 'sunrise': 1604881120, 'sunset': 1604911336}, 'timezone': 28800, 'id': 2022083, 'name': 'Alekseyevsk', 'cod': 200}\n",
      "{'coord': {'lon': 147.33, 'lat': -42.88}, 'weather': [{'id': 800, 'main': 'Clear', 'description': 'clear sky', 'icon': '01n'}], 'base': 'stations', 'main': {'temp': 57.27, 'feels_like': 52.39, 'temp_min': 54, 'temp_max': 62.6, 'pressure': 1021, 'humidity': 59}, 'visibility': 10000, 'wind': {'speed': 5.82, 'deg': 360}, 'clouds': {'all': 0}, 'dt': 1604924223, 'sys': {'type': 1, 'id': 9545, 'country': 'AU', 'sunrise': 1604861050, 'sunset': 1604912695}, 'timezone': 39600, 'id': 2163355, 'name': 'Hobart', 'cod': 200}\n",
      "{'coord': {'lon': -134.97, 'lat': -23.12}, 'weather': [{'id': 500, 'main': 'Rain', 'description': 'light rain', 'icon': '10n'}], 'base': 'stations', 'main': {'temp': 72.97, 'feels_like': 69.55, 'temp_min': 72.97, 'temp_max': 72.97, 'pressure': 1016, 'humidity': 77, 'sea_level': 1016, 'grnd_level': 1013}, 'visibility': 10000, 'wind': {'speed': 15.73, 'deg': 94}, 'rain': {'1h': 0.44}, 'clouds': {'all': 45}, 'dt': 1604924223, 'sys': {'country': 'PF', 'sunrise': 1604930990, 'sunset': 1604978269}, 'timezone': -32400, 'id': 4030556, 'name': 'Rikitea', 'cod': 200}\n",
      "{'coord': {'lon': -73.97, 'lat': 42.6}, 'weather': [{'id': 800, 'main': 'Clear', 'description': 'clear sky', 'icon': '01d'}], 'base': 'stations', 'main': {'temp': 40.91, 'feels_like': 36.99, 'temp_min': 35.6, 'temp_max': 46, 'pressure': 1028, 'humidity': 100}, 'visibility': 10000, 'wind': {'speed': 3.36, 'deg': 180}, 'clouds': {'all': 1}, 'dt': 1604924224, 'sys': {'type': 1, 'id': 3273, 'country': 'US', 'sunrise': 1604922024, 'sunset': 1604957952}, 'timezone': -18000, 'id': 5106841, 'name': 'Albany', 'cod': 200}\n",
      "{'coord': {'lon': -59.53, 'lat': 13.07}, 'weather': [{'id': 802, 'main': 'Clouds', 'description': 'scattered clouds', 'icon': '03d'}], 'base': 'stations', 'main': {'temp': 80.6, 'feels_like': 81.43, 'temp_min': 80.6, 'temp_max': 80.6, 'pressure': 1013, 'humidity': 78}, 'visibility': 10000, 'wind': {'speed': 14.99, 'deg': 140}, 'clouds': {'all': 40}, 'dt': 1604924122, 'sys': {'type': 1, 'id': 8772, 'country': 'BB', 'sunrise': 1604915687, 'sunset': 1604957358}, 'timezone': -14400, 'id': 3373652, 'name': 'Oistins', 'cod': 200}\n",
      "{'coord': {'lon': 20.04, 'lat': -34.53}, 'weather': [{'id': 800, 'main': 'Clear', 'description': 'clear sky', 'icon': '01d'}], 'base': 'stations', 'main': {'temp': 66.2, 'feels_like': 57.29, 'temp_min': 66.2, 'temp_max': 66.2, 'pressure': 1027, 'humidity': 42}, 'visibility': 10000, 'wind': {'speed': 12.75, 'deg': 270}, 'clouds': {'all': 2}, 'dt': 1604924224, 'sys': {'type': 1, 'id': 1966, 'country': 'ZA', 'sunrise': 1604892656, 'sunset': 1604942192}, 'timezone': 7200, 'id': 1015776, 'name': 'Bredasdorp', 'cod': 200}\n",
      "{'coord': {'lon': -135.01, 'lat': 68.22}, 'weather': [{'id': 600, 'main': 'Snow', 'description': 'light snow', 'icon': '13n'}], 'base': 'stations', 'main': {'temp': 5, 'feels_like': -8.52, 'temp_min': 5, 'temp_max': 5, 'pressure': 1010, 'humidity': 77, 'sea_level': 1010, 'grnd_level': 1009}, 'visibility': 3057, 'wind': {'speed': 12.75, 'deg': 360}, 'snow': {'1h': 0.12}, 'clouds': {'all': 100}, 'dt': 1604924225, 'sys': {'type': 1, 'id': 1029, 'country': 'CA', 'sunrise': 1604944265, 'sunset': 1604965012}, 'timezone': -25200, 'id': 5882953, 'name': 'Aklavik', 'cod': 200}\n",
      "{'coord': {'lon': -70.92, 'lat': -53.15}, 'weather': [{'id': 500, 'main': 'Rain', 'description': 'light rain', 'icon': '10d'}], 'base': 'stations', 'main': {'temp': 41, 'feels_like': 30.76, 'temp_min': 41, 'temp_max': 41, 'pressure': 1014, 'humidity': 80}, 'visibility': 10000, 'wind': {'speed': 12.75, 'deg': 320}, 'clouds': {'all': 90}, 'dt': 1604924225, 'sys': {'type': 1, 'id': 8487, 'country': 'CL', 'sunrise': 1604911479, 'sunset': 1604967033}, 'timezone': -10800, 'id': 3874787, 'name': 'Punta Arenas', 'cod': 200}\n"
     ]
    },
    {
     "name": "stdout",
     "output_type": "stream",
     "text": [
      "{'coord': {'lon': 168.33, 'lat': -46.6}, 'weather': [{'id': 800, 'main': 'Clear', 'description': 'clear sky', 'icon': '01n'}], 'base': 'stations', 'main': {'temp': 48, 'feels_like': 45.07, 'temp_min': 48, 'temp_max': 48, 'pressure': 1024, 'humidity': 88}, 'visibility': 10000, 'wind': {'speed': 3, 'deg': 89, 'gust': 5.01}, 'clouds': {'all': 0}, 'dt': 1604924226, 'sys': {'type': 3, 'id': 2008959, 'country': 'NZ', 'sunrise': 1604941749, 'sunset': 1604994728}, 'timezone': 46800, 'id': 2206939, 'name': 'Bluff', 'cod': 200}\n",
      "{'coord': {'lon': 19.23, 'lat': -34.42}, 'weather': [{'id': 802, 'main': 'Clouds', 'description': 'scattered clouds', 'icon': '03d'}], 'base': 'stations', 'main': {'temp': 64, 'feels_like': 59.02, 'temp_min': 64, 'temp_max': 64, 'pressure': 1029, 'humidity': 51}, 'visibility': 10000, 'wind': {'speed': 7, 'deg': 238, 'gust': 13}, 'clouds': {'all': 39}, 'dt': 1604924226, 'sys': {'type': 3, 'id': 2006131, 'country': 'ZA', 'sunrise': 1604892863, 'sunset': 1604942374}, 'timezone': 7200, 'id': 3366880, 'name': 'Hermanus', 'cod': 200}\n",
      "{'coord': {'lon': 18.42, 'lat': -33.93}, 'weather': [{'id': 801, 'main': 'Clouds', 'description': 'few clouds', 'icon': '02d'}], 'base': 'stations', 'main': {'temp': 64.71, 'feels_like': 54.52, 'temp_min': 64, 'temp_max': 66, 'pressure': 1028, 'humidity': 39}, 'visibility': 10000, 'wind': {'speed': 13.87, 'deg': 170}, 'clouds': {'all': 20}, 'dt': 1604924227, 'sys': {'type': 1, 'id': 1899, 'country': 'ZA', 'sunrise': 1604893112, 'sunset': 1604942513}, 'timezone': 7200, 'id': 3369157, 'name': 'Cape Town', 'cod': 200}\n",
      "{'coord': {'lon': -51.1, 'lat': 69.22}, 'weather': [{'id': 803, 'main': 'Clouds', 'description': 'broken clouds', 'icon': '04n'}], 'base': 'stations', 'main': {'temp': 15.8, 'feels_like': 6.53, 'temp_min': 15.8, 'temp_max': 15.8, 'pressure': 995, 'humidity': 66}, 'visibility': 10000, 'wind': {'speed': 5.82, 'deg': 150}, 'clouds': {'all': 75}, 'dt': 1604924227, 'sys': {'type': 1, 'id': 165, 'country': 'GL', 'sunrise': 1604924861, 'sunset': 1604944136}, 'timezone': -10800, 'id': 3423146, 'name': 'Ilulissat', 'cod': 200}\n",
      "{'coord': {'lon': 30.79, 'lat': 59.7}, 'weather': [{'id': 804, 'main': 'Clouds', 'description': 'overcast clouds', 'icon': '04d'}], 'base': 'stations', 'main': {'temp': 40.64, 'feels_like': 30.63, 'temp_min': 38.89, 'temp_max': 42.01, 'pressure': 1019, 'humidity': 93}, 'visibility': 10000, 'wind': {'speed': 13.42, 'deg': 250}, 'clouds': {'all': 90}, 'dt': 1604924228, 'sys': {'type': 1, 'id': 8926, 'country': 'RU', 'sunrise': 1604900316, 'sunset': 1604929372}, 'timezone': 10800, 'id': 546105, 'name': 'Nikolskoye', 'cod': 200}\n",
      "{'coord': {'lon': -65.02, 'lat': -0.41}, 'weather': [{'id': 804, 'main': 'Clouds', 'description': 'overcast clouds', 'icon': '04d'}], 'base': 'stations', 'main': {'temp': 76.42, 'feels_like': 85.28, 'temp_min': 76.42, 'temp_max': 76.42, 'pressure': 1013, 'humidity': 92, 'sea_level': 1013, 'grnd_level': 1007}, 'visibility': 10000, 'wind': {'speed': 1.54, 'deg': 52}, 'clouds': {'all': 100}, 'dt': 1604924228, 'sys': {'country': 'BR', 'sunrise': 1604916001, 'sunset': 1604959678}, 'timezone': -14400, 'id': 3662489, 'name': 'Santa Isabel Rio Negro', 'cod': 200}\n",
      "{'coord': {'lon': -113.58, 'lat': 37.1}, 'weather': [{'id': 803, 'main': 'Clouds', 'description': 'broken clouds', 'icon': '04n'}], 'base': 'stations', 'main': {'temp': 36.99, 'feels_like': 30.69, 'temp_min': 35.01, 'temp_max': 39, 'pressure': 1011, 'humidity': 80}, 'visibility': 10000, 'wind': {'speed': 4.7, 'deg': 140}, 'clouds': {'all': 75}, 'dt': 1604924004, 'sys': {'type': 1, 'id': 5832, 'country': 'US', 'sunrise': 1604930851, 'sunset': 1604968139}, 'timezone': -25200, 'id': 5546220, 'name': 'Saint George', 'cod': 200}\n",
      "{'coord': {'lon': 170.31, 'lat': 69.7}, 'weather': [{'id': 804, 'main': 'Clouds', 'description': 'overcast clouds', 'icon': '04n'}], 'base': 'stations', 'main': {'temp': 18.66, 'feels_like': 9.37, 'temp_min': 18.66, 'temp_max': 18.66, 'pressure': 1013, 'humidity': 93, 'sea_level': 1013, 'grnd_level': 1008}, 'visibility': 10000, 'wind': {'speed': 7.14, 'deg': 48}, 'clouds': {'all': 100}, 'dt': 1604924228, 'sys': {'country': 'RU', 'sunrise': 1604958682, 'sunset': 1604976844}, 'timezone': 43200, 'id': 2122090, 'name': 'Pevek', 'cod': 200}\n",
      "{'coord': {'lon': -57.56, 'lat': -38}, 'weather': [{'id': 803, 'main': 'Clouds', 'description': 'broken clouds', 'icon': '04d'}], 'base': 'stations', 'main': {'temp': 62.19, 'feels_like': 59.77, 'temp_min': 62.01, 'temp_max': 62.6, 'pressure': 1022, 'humidity': 88}, 'visibility': 10000, 'wind': {'speed': 9.17, 'deg': 20}, 'clouds': {'all': 75}, 'dt': 1604924080, 'sys': {'type': 1, 'id': 8305, 'country': 'AR', 'sunrise': 1604910853, 'sunset': 1604961246}, 'timezone': -10800, 'id': 3430863, 'name': 'Mar del Plata', 'cod': 200}\n",
      "{'coord': {'lon': 105.72, 'lat': 9.29}, 'weather': [{'id': 500, 'main': 'Rain', 'description': 'light rain', 'icon': '10n'}], 'base': 'stations', 'main': {'temp': 78.64, 'feels_like': 85.01, 'temp_min': 78.64, 'temp_max': 78.64, 'pressure': 1009, 'humidity': 79, 'sea_level': 1009, 'grnd_level': 1008}, 'visibility': 10000, 'wind': {'speed': 3.67, 'deg': 282}, 'rain': {'1h': 0.41}, 'clouds': {'all': 95}, 'dt': 1604924229, 'sys': {'country': 'VN', 'sunrise': 1604875732, 'sunset': 1604917987}, 'timezone': 25200, 'id': 1591474, 'name': 'Bac Lieu', 'cod': 200}\n",
      "{'coord': {'lon': 108.1, 'lat': 10.93}, 'weather': [{'id': 804, 'main': 'Clouds', 'description': 'overcast clouds', 'icon': '04n'}], 'base': 'stations', 'main': {'temp': 77, 'feels_like': 81.86, 'temp_min': 77, 'temp_max': 77, 'pressure': 1008, 'humidity': 81, 'sea_level': 1008, 'grnd_level': 1007}, 'visibility': 10000, 'wind': {'speed': 5.57, 'deg': 282}, 'clouds': {'all': 100}, 'dt': 1604924229, 'sys': {'country': 'VN', 'sunrise': 1604875283, 'sunset': 1604917293}, 'timezone': 25200, 'id': 1571058, 'name': 'Phan Thiet', 'cod': 200}\n",
      "{'coord': {'lon': -68.3, 'lat': -54.8}, 'weather': [{'id': 800, 'main': 'Clear', 'description': 'clear sky', 'icon': '01d'}], 'base': 'stations', 'main': {'temp': 41, 'feels_like': 33.64, 'temp_min': 41, 'temp_max': 41, 'pressure': 1011, 'humidity': 48}, 'visibility': 10000, 'wind': {'speed': 4.7, 'deg': 340}, 'clouds': {'all': 0}, 'dt': 1604923940, 'sys': {'type': 1, 'id': 8303, 'country': 'AR', 'sunrise': 1604910442, 'sunset': 1604966812}, 'timezone': -10800, 'id': 3833367, 'name': 'Ushuaia', 'cod': 200}\n",
      "{'coord': {'lon': -114.06, 'lat': 27.98}, 'weather': [{'id': 804, 'main': 'Clouds', 'description': 'overcast clouds', 'icon': '04n'}], 'base': 'stations', 'main': {'temp': 63.36, 'feels_like': 57.83, 'temp_min': 63.36, 'temp_max': 63.36, 'pressure': 1015, 'humidity': 62, 'sea_level': 1015, 'grnd_level': 1015}, 'visibility': 10000, 'wind': {'speed': 10, 'deg': 296}, 'clouds': {'all': 87}, 'dt': 1604924230, 'sys': {'country': 'MX', 'sunrise': 1604930026, 'sunset': 1604969195}, 'timezone': -25200, 'id': 4021858, 'name': 'Guerrero Negro', 'cod': 200}\n",
      "{'coord': {'lon': 163.07, 'lat': 59.24}, 'weather': [{'id': 801, 'main': 'Clouds', 'description': 'few clouds', 'icon': '02n'}], 'base': 'stations', 'main': {'temp': 19.89, 'feels_like': 10.94, 'temp_min': 19.89, 'temp_max': 19.89, 'pressure': 1002, 'humidity': 86, 'sea_level': 1002, 'grnd_level': 1001}, 'visibility': 10000, 'wind': {'speed': 6.44, 'deg': 327}, 'clouds': {'all': 18}, 'dt': 1604924230, 'sys': {'country': 'RU', 'sunrise': 1604954919, 'sunset': 1604984082}, 'timezone': 43200, 'id': 2122389, 'name': 'Ossora', 'cod': 200}\n",
      "{'coord': {'lon': -159.32, 'lat': 22.08}, 'weather': [{'id': 500, 'main': 'Rain', 'description': 'light rain', 'icon': '10n'}], 'base': 'stations', 'main': {'temp': 74.86, 'feels_like': 73.47, 'temp_min': 72, 'temp_max': 78.8, 'pressure': 1017, 'humidity': 78}, 'visibility': 10000, 'wind': {'speed': 13.87, 'deg': 100}, 'rain': {'1h': 0.76}, 'clouds': {'all': 75}, 'dt': 1604924230, 'sys': {'type': 1, 'id': 7873, 'country': 'US', 'sunrise': 1604940369, 'sunset': 1604980578}, 'timezone': -36000, 'id': 5848280, 'name': 'Kapaa', 'cod': 200}\n",
      "{'coord': {'lon': 100.34, 'lat': 5.41}, 'weather': [{'id': 802, 'main': 'Clouds', 'description': 'scattered clouds', 'icon': '03n'}], 'base': 'stations', 'main': {'temp': 80.49, 'feels_like': 87.82, 'temp_min': 78.01, 'temp_max': 82.4, 'pressure': 1008, 'humidity': 78}, 'visibility': 8000, 'wind': {'speed': 3.36, 'deg': 290}, 'clouds': {'all': 40}, 'dt': 1604924065, 'sys': {'type': 1, 'id': 9429, 'country': 'MY', 'sunrise': 1604876737, 'sunset': 1604919564}, 'timezone': 28800, 'id': 1735106, 'name': 'George Town', 'cod': 200}\n"
     ]
    },
    {
     "name": "stdout",
     "output_type": "stream",
     "text": [
      "{'coord': {'lon': 155.63, 'lat': -6.22}, 'weather': [{'id': 500, 'main': 'Rain', 'description': 'light rain', 'icon': '10n'}], 'base': 'stations', 'main': {'temp': 80.02, 'feels_like': 88.66, 'temp_min': 80.02, 'temp_max': 80.02, 'pressure': 1010, 'humidity': 78, 'sea_level': 1010, 'grnd_level': 1007}, 'visibility': 10000, 'wind': {'speed': 0.58, 'deg': 302}, 'rain': {'1h': 0.11}, 'clouds': {'all': 80}, 'dt': 1604924231, 'sys': {'country': 'PG', 'sunrise': 1604862616, 'sunset': 1604907144}, 'timezone': 39600, 'id': 2094027, 'name': 'Kieta', 'cod': 200}\n",
      "{'coord': {'lon': -81.42, 'lat': 19.37}, 'weather': [{'id': 521, 'main': 'Rain', 'description': 'shower rain', 'icon': '09d'}], 'base': 'stations', 'main': {'temp': 80.2, 'feels_like': 82.9, 'temp_min': 80.01, 'temp_max': 80.6, 'pressure': 1004, 'humidity': 88}, 'visibility': 8000, 'wind': {'speed': 14.99, 'deg': 240}, 'clouds': {'all': 75}, 'dt': 1604924232, 'sys': {'type': 1, 'id': 7265, 'country': 'KY', 'sunrise': 1604921440, 'sunset': 1604962113}, 'timezone': -18000, 'id': 3580477, 'name': 'West Bay', 'cod': 200}\n",
      "{'coord': {'lon': 16.12, 'lat': 69.31}, 'weather': [{'id': 803, 'main': 'Clouds', 'description': 'broken clouds', 'icon': '04d'}], 'base': 'stations', 'main': {'temp': 36.84, 'feels_like': 17.37, 'temp_min': 36, 'temp_max': 37.4, 'pressure': 1020, 'humidity': 59}, 'visibility': 10000, 'wind': {'speed': 26.4, 'deg': 280}, 'clouds': {'all': 75}, 'dt': 1604924232, 'sys': {'type': 1, 'id': 1603, 'country': 'NO', 'sunrise': 1604908749, 'sunset': 1604927981}, 'timezone': 3600, 'id': 3163146, 'name': 'Andenes', 'cod': 200}\n",
      "{'coord': {'lon': 172.79, 'lat': 3.07}, 'weather': [{'id': 800, 'main': 'Clear', 'description': 'clear sky', 'icon': '01n'}], 'base': 'stations', 'main': {'temp': 81.48, 'feels_like': 83.32, 'temp_min': 81.48, 'temp_max': 81.48, 'pressure': 1009, 'humidity': 71, 'sea_level': 1009, 'grnd_level': 1008}, 'visibility': 10000, 'wind': {'speed': 11.34, 'deg': 42}, 'clouds': {'all': 0}, 'dt': 1604924120, 'sys': {'country': 'KI', 'sunrise': 1604945586, 'sunset': 1604988749}, 'timezone': 43200, 'id': 2110227, 'name': 'Butaritari', 'cod': 200}\n",
      "{'coord': {'lon': -110.67, 'lat': 50.05}, 'weather': [{'id': 804, 'main': 'Clouds', 'description': 'overcast clouds', 'icon': '04n'}], 'base': 'stations', 'main': {'temp': 15.8, 'feels_like': 5.5, 'temp_min': 15.8, 'temp_max': 15.8, 'pressure': 1017, 'humidity': 78}, 'visibility': 10000, 'wind': {'speed': 8.05, 'deg': 270}, 'clouds': {'all': 90}, 'dt': 1604924233, 'sys': {'type': 1, 'id': 978, 'country': 'CA', 'sunrise': 1604932012, 'sunset': 1604965581}, 'timezone': -25200, 'id': 6071618, 'name': 'Medicine Hat', 'cod': 200}\n",
      "{'coord': {'lon': -84.48, 'lat': 15.75}, 'weather': [{'id': 800, 'main': 'Clear', 'description': 'clear sky', 'icon': '01d'}], 'base': 'stations', 'main': {'temp': 70.65, 'feels_like': 74.91, 'temp_min': 70.65, 'temp_max': 70.65, 'pressure': 1010, 'humidity': 87, 'sea_level': 1010, 'grnd_level': 1009}, 'visibility': 10000, 'wind': {'speed': 3.06, 'deg': 253}, 'clouds': {'all': 0}, 'dt': 1604924233, 'sys': {'country': 'HN', 'sunrise': 1604921884, 'sunset': 1604963137}, 'timezone': -21600, 'id': 3614663, 'name': 'Brus Laguna', 'cod': 200}\n",
      "{'coord': {'lon': 115.33, 'lat': -33.65}, 'weather': [{'id': 500, 'main': 'Rain', 'description': 'light rain', 'icon': '10n'}], 'base': 'stations', 'main': {'temp': 51.75, 'feels_like': 40.28, 'temp_min': 48.99, 'temp_max': 54, 'pressure': 998, 'humidity': 69}, 'visibility': 10000, 'wind': {'speed': 17.09, 'deg': 242}, 'rain': {'1h': 0.38}, 'clouds': {'all': 43}, 'dt': 1604924233, 'sys': {'type': 3, 'id': 2011706, 'country': 'AU', 'sunrise': 1604869897, 'sunset': 1604919208}, 'timezone': 28800, 'id': 2075265, 'name': 'Busselton', 'cod': 200}\n"
     ]
    }
   ],
   "source": [
    "#create empty list\n",
    "city_data=[]\n",
    "for c in cities[:40]:\n",
    "# Parse the JSON and retrieve data\n",
    "    url=\"http://api.openweathermap.org/data/2.5/weather?units=Imperial&APPID=\"+weather_api_key+\"&q=\"+c\n",
    "    city_weather = requests.get(url)\n",
    "    city_weather = city_weather.json()\n",
    "    print(city_weather)\n",
    "    \n",
    "\n",
    "    if city_weather['cod']==200:\n",
    "        # Parse out the max temp, humidity, and cloudiness\n",
    "        city_lat = city_weather[\"coord\"][\"lat\"]\n",
    "        city_lng = city_weather[\"coord\"][\"lon\"]\n",
    "        city_max_temp = city_weather[\"main\"][\"temp_max\"]\n",
    "        city_humidity = city_weather[\"main\"][\"humidity\"]\n",
    "        city_clouds = city_weather[\"clouds\"][\"all\"]\n",
    "        city_wind = city_weather[\"wind\"][\"speed\"]\n",
    "        city_country = city_weather[\"sys\"][\"country\"]\n",
    "        city_date = city_weather[\"dt\"]\n",
    "        # Append the City information into city_data list\n",
    "        city_data.append({\"City\":city_weather['name'],\n",
    "                          \"Lat\": city_lat,\n",
    "                          \"Lng\": city_lng,\n",
    "                          \"Max Temp\": city_max_temp,\n",
    "                          \"Humidity\": city_humidity,\n",
    "                          \"Cloudiness\": city_clouds,\n",
    "                          \"Wind Speed\": city_wind,\n",
    "                          \"Country\": city_country,\n",
    "                          \"Date\": city_date})\n"
   ]
  },
  {
   "cell_type": "code",
   "execution_count": 9,
   "metadata": {},
   "outputs": [],
   "source": [
    "weather_df=pd.DataFrame(city_data)\n",
    "weather_df.to_csv(output_data_file, index=False)"
   ]
  },
  {
   "cell_type": "markdown",
   "metadata": {},
   "source": [
    "## Inspect the data and remove the cities where the humidity > 100%.\n",
    "----\n",
    "Skip this step if there are no cities that have humidity > 100%. "
   ]
  },
  {
   "cell_type": "code",
   "execution_count": 10,
   "metadata": {},
   "outputs": [
    {
     "data": {
      "text/html": [
       "<div>\n",
       "<style scoped>\n",
       "    .dataframe tbody tr th:only-of-type {\n",
       "        vertical-align: middle;\n",
       "    }\n",
       "\n",
       "    .dataframe tbody tr th {\n",
       "        vertical-align: top;\n",
       "    }\n",
       "\n",
       "    .dataframe thead th {\n",
       "        text-align: right;\n",
       "    }\n",
       "</style>\n",
       "<table border=\"1\" class=\"dataframe\">\n",
       "  <thead>\n",
       "    <tr style=\"text-align: right;\">\n",
       "      <th></th>\n",
       "      <th>City</th>\n",
       "      <th>Lat</th>\n",
       "      <th>Lng</th>\n",
       "      <th>Max Temp</th>\n",
       "      <th>Humidity</th>\n",
       "      <th>Cloudiness</th>\n",
       "      <th>Wind Speed</th>\n",
       "      <th>Country</th>\n",
       "      <th>Date</th>\n",
       "    </tr>\n",
       "  </thead>\n",
       "  <tbody>\n",
       "  </tbody>\n",
       "</table>\n",
       "</div>"
      ],
      "text/plain": [
       "Empty DataFrame\n",
       "Columns: [City, Lat, Lng, Max Temp, Humidity, Cloudiness, Wind Speed, Country, Date]\n",
       "Index: []"
      ]
     },
     "execution_count": 10,
     "metadata": {},
     "output_type": "execute_result"
    }
   ],
   "source": [
    "#  Get the indices of cities that have humidity over 100%.\n",
    "weather_df[weather_df['Humidity']>100]"
   ]
  },
  {
   "cell_type": "code",
   "execution_count": 11,
   "metadata": {},
   "outputs": [],
   "source": [
    "# Make a new DataFrame equal to the city data to drop all humidity outliers by index.\n",
    "# Passing \"inplace=False\" will make a copy of the city_data DataFrame, which we call \"clean_city_data\".\n"
   ]
  },
  {
   "cell_type": "markdown",
   "metadata": {},
   "source": [
    "## Plotting the Data\n",
    "* Use proper labeling of the plots using plot titles (including date of analysis) and axes labels.\n",
    "* Save the plotted figures as .pngs."
   ]
  },
  {
   "cell_type": "markdown",
   "metadata": {},
   "source": [
    "## Latitude vs. Temperature Plot"
   ]
  },
  {
   "cell_type": "code",
   "execution_count": 12,
   "metadata": {
    "scrolled": true
   },
   "outputs": [
    {
     "data": {
      "image/png": "[encoded data removed]",
      "text/plain": [
       "<Figure size 432x288 with 1 Axes>"
      ]
     },
     "metadata": {
      "needs_background": "light"
     },
     "output_type": "display_data"
    }
   ],
   "source": [
    "plt.scatter(weather_df[\"Lat\"], weather_df[\"Max Temp\"], marker=\"o\")\n",
    "plt.title(\"Latitude vs. Temperature Plot\")\n",
    "plt.ylabel(\"Max Temp\")\n",
    "plt.xlabel(\"Lat\")\n",
    "plt.grid(True)\n",
    "plt.show()"
   ]
  },
  {
   "cell_type": "markdown",
   "metadata": {},
   "source": [
    "## Latitude vs. Humidity Plot"
   ]
  },
  {
   "cell_type": "code",
   "execution_count": 13,
   "metadata": {},
   "outputs": [
    {
     "data": {
      "image/png": "[encoded data removed]",
      "text/plain": [
       "<Figure size 432x288 with 1 Axes>"
      ]
     },
     "metadata": {
      "needs_background": "light"
     },
     "output_type": "display_data"
    }
   ],
   "source": [
    "plt.scatter(weather_df[\"Lat\"], weather_df[\"Humidity\"], marker=\"o\")\n",
    "plt.title(\"Latitude vs. Humidity Plot\")\n",
    "plt.ylabel(\"Humidity\")\n",
    "plt.xlabel(\"Lat\")\n",
    "plt.grid(True)\n",
    "plt.show()"
   ]
  },
  {
   "cell_type": "markdown",
   "metadata": {},
   "source": [
    "## Latitude vs. Cloudiness Plot"
   ]
  },
  {
   "cell_type": "code",
   "execution_count": 14,
   "metadata": {},
   "outputs": [
    {
     "data": {
      "image/png": "[encoded data removed]",
      "text/plain": [
       "<Figure size 432x288 with 1 Axes>"
      ]
     },
     "metadata": {
      "needs_background": "light"
     },
     "output_type": "display_data"
    }
   ],
   "source": [
    "plt.scatter(weather_df[\"Lat\"], weather_df[\"Cloudiness\"], marker=\"o\")\n",
    "plt.title(\"Latitude vs. Cloudiness Plot\")\n",
    "plt.ylabel(\"Cloudiness\")\n",
    "plt.xlabel(\"Lat\")\n",
    "plt.grid(True)\n",
    "plt.show()"
   ]
  },
  {
   "cell_type": "markdown",
   "metadata": {},
   "source": [
    "## Latitude vs. Wind Speed Plot"
   ]
  },
  {
   "cell_type": "code",
   "execution_count": 15,
   "metadata": {},
   "outputs": [
    {
     "data": {
      "image/png": "[encoded data removed]",
      "text/plain": [
       "<Figure size 432x288 with 1 Axes>"
      ]
     },
     "metadata": {
      "needs_background": "light"
     },
     "output_type": "display_data"
    }
   ],
   "source": [
    "plt.scatter(weather_df[\"Lat\"], weather_df[\"Wind Speed\"], marker=\"o\")\n",
    "plt.title(\"Latitude vs. Wind Speed Plot\")\n",
    "plt.ylabel(\"Wind Speed\")\n",
    "plt.xlabel(\"Lat\")\n",
    "plt.grid(True)\n",
    "plt.show()"
   ]
  },
  {
   "cell_type": "markdown",
   "metadata": {},
   "source": [
    "## Linear Regression"
   ]
  },
  {
   "cell_type": "markdown",
   "metadata": {},
   "source": [
    "####  Northern Hemisphere - Max Temp vs. Latitude Linear Regression"
   ]
  },
  {
   "cell_type": "code",
   "execution_count": 13,
   "metadata": {
    "scrolled": true
   },
   "outputs": [
    {
     "data": {
      "image/png": "[encoded data removed]",
      "text/plain": [
       "<Figure size 432x288 with 1 Axes>"
      ]
     },
     "metadata": {
      "needs_background": "light"
     },
     "output_type": "display_data"
    },
    {
     "name": "stdout",
     "output_type": "stream",
     "text": [
      "The r-value is: -0.4541946676465035\n"
     ]
    }
   ],
   "source": [
    "x_values = weather_df['Lat']>=0\n",
    "y_values = weather_df['Max Temp']\n",
    "(slope, intercept, rvalue, pvalue, stderr) = linregress(x_values, y_values)\n",
    "regress_values = x_values * slope + intercept\n",
    "line_eq = \"y = \" + str(round(slope,2)) + \"x + \" + str(round(intercept,2))\n",
    "plt.scatter(x_values,y_values)\n",
    "plt.plot(x_values,regress_values,\"r-\")\n",
    "plt.annotate(line_eq,(1,2),fontsize=15,color=\"red\")\n",
    "plt.xlabel('Latitude')\n",
    "plt.ylabel('Max Temp')\n",
    "plt.show()\n",
    "\n",
    "print(f\"The r-value is: {rvalue}\")"
   ]
  },
  {
   "cell_type": "markdown",
   "metadata": {},
   "source": [
    "####  Southern Hemisphere - Max Temp vs. Latitude Linear Regression"
   ]
  },
  {
   "cell_type": "code",
   "execution_count": 14,
   "metadata": {},
   "outputs": [
    {
     "data": {
      "image/png": "[encoded data removed]",
      "text/plain": [
       "<Figure size 432x288 with 1 Axes>"
      ]
     },
     "metadata": {
      "needs_background": "light"
     },
     "output_type": "display_data"
    },
    {
     "name": "stdout",
     "output_type": "stream",
     "text": [
      "The r-value is: 0.4541946676465035\n"
     ]
    }
   ],
   "source": [
    "x_values = weather_df['Lat']<0\n",
    "y_values = weather_df['Max Temp']\n",
    "(slope, intercept, rvalue, pvalue, stderr) = linregress(x_values, y_values)\n",
    "regress_values = x_values * slope + intercept\n",
    "line_eq = \"y = \" + str(round(slope,2)) + \"x + \" + str(round(intercept,2))\n",
    "plt.scatter(x_values,y_values)\n",
    "plt.plot(x_values,regress_values,\"r-\")\n",
    "plt.annotate(line_eq,(1,2),fontsize=15,color=\"red\")\n",
    "plt.xlabel('Latitude')\n",
    "plt.ylabel('Max Temp')\n",
    "plt.show()\n",
    "print(f\"The r-value is: {rvalue}\")"
   ]
  },
  {
   "cell_type": "markdown",
   "metadata": {},
   "source": [
    "####  Northern Hemisphere - Humidity (%) vs. Latitude Linear Regression"
   ]
  },
  {
   "cell_type": "code",
   "execution_count": 15,
   "metadata": {},
   "outputs": [
    {
     "data": {
      "image/png": "[encoded data removed]",
      "text/plain": [
       "<Figure size 432x288 with 1 Axes>"
      ]
     },
     "metadata": {
      "needs_background": "light"
     },
     "output_type": "display_data"
    },
    {
     "name": "stdout",
     "output_type": "stream",
     "text": [
      "The r-value is: 0.15527816041898962\n"
     ]
    }
   ],
   "source": [
    "x_values = weather_df['Lat']>=0\n",
    "y_values = weather_df['Humidity']\n",
    "(slope, intercept, rvalue, pvalue, stderr) = linregress(x_values, y_values)\n",
    "regress_values = x_values * slope + intercept\n",
    "line_eq = \"y = \" + str(round(slope,2)) + \"x + \" + str(round(intercept,2))\n",
    "plt.scatter(x_values,y_values)\n",
    "plt.plot(x_values,regress_values,\"r-\")\n",
    "plt.annotate(line_eq,(1,2),fontsize=15,color=\"red\")\n",
    "plt.xlabel('Latitude')\n",
    "plt.ylabel('Humidity')\n",
    "plt.show()\n",
    "print(f\"The r-value is: {rvalue}\")"
   ]
  },
  {
   "cell_type": "markdown",
   "metadata": {},
   "source": [
    "####  Southern Hemisphere - Humidity (%) vs. Latitude Linear Regression"
   ]
  },
  {
   "cell_type": "code",
   "execution_count": 16,
   "metadata": {},
   "outputs": [
    {
     "data": {
      "image/png": "[encoded data removed]",
      "text/plain": [
       "<Figure size 432x288 with 1 Axes>"
      ]
     },
     "metadata": {
      "needs_background": "light"
     },
     "output_type": "display_data"
    },
    {
     "name": "stdout",
     "output_type": "stream",
     "text": [
      "The r-value is: -0.15527816041898962\n"
     ]
    }
   ],
   "source": [
    "x_values = weather_df['Lat']<0\n",
    "y_values = weather_df['Humidity']\n",
    "(slope, intercept, rvalue, pvalue, stderr) = linregress(x_values, y_values)\n",
    "regress_values = x_values * slope + intercept\n",
    "line_eq = \"y = \" + str(round(slope,2)) + \"x + \" + str(round(intercept,2))\n",
    "plt.scatter(x_values,y_values)\n",
    "plt.plot(x_values,regress_values,\"r-\")\n",
    "plt.annotate(line_eq,(1,2),fontsize=15,color=\"red\")\n",
    "plt.xlabel('Latitude')\n",
    "plt.ylabel('Humidity')\n",
    "plt.show()\n",
    "print(f\"The r-value is: {rvalue}\")"
   ]
  },
  {
   "cell_type": "markdown",
   "metadata": {},
   "source": [
    "####  Northern Hemisphere - Cloudiness (%) vs. Latitude Linear Regression"
   ]
  },
  {
   "cell_type": "code",
   "execution_count": 17,
   "metadata": {},
   "outputs": [
    {
     "ename": "SyntaxError",
     "evalue": "unmatched ')' (<ipython-input-17-26d16864eabd>, line 12)",
     "output_type": "error",
     "traceback": [
      "\u001b[1;36m  File \u001b[1;32m\"<ipython-input-17-26d16864eabd>\"\u001b[1;36m, line \u001b[1;32m12\u001b[0m\n\u001b[1;33m    print(f\"The r-value is: {rvalue}\"))\u001b[0m\n\u001b[1;37m                                      ^\u001b[0m\n\u001b[1;31mSyntaxError\u001b[0m\u001b[1;31m:\u001b[0m unmatched ')'\n"
     ]
    }
   ],
   "source": [
    "x_values = weather_df['Lat']>=0\n",
    "y_values = weather_df['Cloudiness']\n",
    "(slope, intercept, rvalue, pvalue, stderr) = linregress(x_values, y_values)\n",
    "regress_values = x_values * slope + intercept\n",
    "line_eq = \"y = \" + str(round(slope,2)) + \"x + \" + str(round(intercept,2))\n",
    "plt.scatter(x_values,y_values)\n",
    "plt.plot(x_values,regress_values,\"r-\")\n",
    "plt.annotate(line_eq,(1,2),fontsize=15,color=\"red\")\n",
    "plt.xlabel('Latitude')\n",
    "plt.ylabel('Cloudiness')\n",
    "plt.show()\n",
    "print(f\"The r-value is: {rvalue}\"))"
   ]
  },
  {
   "cell_type": "markdown",
   "metadata": {},
   "source": [
    "####  Southern Hemisphere - Cloudiness (%) vs. Latitude Linear Regression"
   ]
  },
  {
   "cell_type": "code",
   "execution_count": 18,
   "metadata": {},
   "outputs": [
    {
     "data": {
      "image/png": "[encoded data removed]",
      "text/plain": [
       "<Figure size 432x288 with 1 Axes>"
      ]
     },
     "metadata": {
      "needs_background": "light"
     },
     "output_type": "display_data"
    },
    {
     "name": "stdout",
     "output_type": "stream",
     "text": [
      "The r-value is: 0.24116942718890802\n"
     ]
    }
   ],
   "source": [
    "x_values = weather_df['Lat']<0\n",
    "y_values = weather_df['Cloudiness']\n",
    "(slope, intercept, rvalue, pvalue, stderr) = linregress(x_values, y_values)\n",
    "regress_values = x_values * slope + intercept\n",
    "line_eq = \"y = \" + str(round(slope,2)) + \"x + \" + str(round(intercept,2))\n",
    "plt.scatter(x_values,y_values)\n",
    "plt.plot(x_values,regress_values,\"r-\")\n",
    "plt.annotate(line_eq,(1,2),fontsize=15,color=\"red\")\n",
    "plt.xlabel('Latitude')\n",
    "plt.ylabel('Cloudiness')\n",
    "plt.show()\n",
    "print(f\"The r-value is: {rvalue}\")"
   ]
  },
  {
   "cell_type": "markdown",
   "metadata": {},
   "source": [
    "####  Northern Hemisphere - Wind Speed (mph) vs. Latitude Linear Regression"
   ]
  },
  {
   "cell_type": "code",
   "execution_count": 19,
   "metadata": {},
   "outputs": [
    {
     "data": {
      "image/png": "[encoded data removed]",
      "text/plain": [
       "<Figure size 432x288 with 1 Axes>"
      ]
     },
     "metadata": {
      "needs_background": "light"
     },
     "output_type": "display_data"
    },
    {
     "name": "stdout",
     "output_type": "stream",
     "text": [
      "The r-value is: -0.2968922656205383\n"
     ]
    }
   ],
   "source": [
    "x_values = weather_df['Lat']>=0\n",
    "y_values = weather_df['Wind Speed']\n",
    "(slope, intercept, rvalue, pvalue, stderr) = linregress(x_values, y_values)\n",
    "regress_values = x_values * slope + intercept\n",
    "line_eq = \"y = \" + str(round(slope,2)) + \"x + \" + str(round(intercept,2))\n",
    "plt.scatter(x_values,y_values)\n",
    "plt.plot(x_values,regress_values,\"r-\")\n",
    "plt.annotate(line_eq,(1,2),fontsize=15,color=\"red\")\n",
    "plt.xlabel('Latitude')\n",
    "plt.ylabel('Wind Speed')\n",
    "plt.show()\n",
    "print(f\"The r-value is: {rvalue}\")"
   ]
  },
  {
   "cell_type": "markdown",
   "metadata": {},
   "source": [
    "####  Southern Hemisphere - Wind Speed (mph) vs. Latitude Linear Regression"
   ]
  },
  {
   "cell_type": "code",
   "execution_count": 20,
   "metadata": {},
   "outputs": [
    {
     "data": {
      "image/png": "[encoded data removed]",
      "text/plain": [
       "<Figure size 432x288 with 1 Axes>"
      ]
     },
     "metadata": {
      "needs_background": "light"
     },
     "output_type": "display_data"
    },
    {
     "name": "stdout",
     "output_type": "stream",
     "text": [
      "The r-value is: 0.2968922656205383\n"
     ]
    }
   ],
   "source": [
    "x_values = weather_df['Lat']<0\n",
    "y_values = weather_df['Wind Speed']\n",
    "(slope, intercept, rvalue, pvalue, stderr) = linregress(x_values, y_values)\n",
    "regress_values = x_values * slope + intercept\n",
    "line_eq = \"y = \" + str(round(slope,2)) + \"x + \" + str(round(intercept,2))\n",
    "plt.scatter(x_values,y_values)\n",
    "plt.plot(x_values,regress_values,\"r-\")\n",
    "plt.annotate(line_eq,(1,2),fontsize=15,color=\"red\")\n",
    "plt.xlabel('Latitude')\n",
    "plt.ylabel('Wind Speed')\n",
    "plt.show()\n",
    "print(f\"The r-value is: {rvalue}\")"
   ]
  },
  {
   "cell_type": "code",
   "execution_count": null,
   "metadata": {},
   "outputs": [],
   "source": []
  }
 ],
 "metadata": {
  "anaconda-cloud": {},
  "kernel_info": {
   "name": "python3"
  },
  "kernelspec": {
   "display_name": "Python 3",
   "language": "python",
   "name": "python3"
  },
  "language_info": {
   "codemirror_mode": {
    "name": "ipython",
    "version": 3
   },
   "file_extension": ".py",
   "mimetype": "text/x-python",
   "name": "python",
   "nbconvert_exporter": "python",
   "pygments_lexer": "ipython3",
   "version": "3.8.3"
  },
  "latex_envs": {
   "LaTeX_envs_menu_present": true,
   "autoclose": false,
   "autocomplete": true,
   "bibliofile": "biblio.bib",
   "cite_by": "apalike",
   "current_citInitial": 1,
   "eqLabelWithNumbers": true,
   "eqNumInitial": 1,
   "hotkeys": {
    "equation": "Ctrl-E",
    "itemize": "Ctrl-I"
   },
   "labels_anchors": false,
   "latex_user_defs": false,
   "report_style_numbering": false,
   "user_envs_cfg": false
  },
  "nteract": {
   "version": "0.12.3"
  }
 },
 "nbformat": 4,
 "nbformat_minor": 2
}
