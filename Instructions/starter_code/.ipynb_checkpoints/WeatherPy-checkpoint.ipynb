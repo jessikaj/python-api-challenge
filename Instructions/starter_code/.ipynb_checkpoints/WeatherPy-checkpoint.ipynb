{
 "cells": [
  {
   "cell_type": "markdown",
   "metadata": {},
   "source": [
    "# WeatherPy\n",
    "----\n",
    "\n",
    "#### Note\n",
    "* Instructions have been included for each segment. You do not have to follow them exactly, but they are included to help you think through the steps."
   ]
  },
  {
   "cell_type": "code",
   "execution_count": 1,
   "metadata": {
    "scrolled": true
   },
   "outputs": [],
   "source": [
    "# Dependencies and Setup\n",
    "import matplotlib.pyplot as plt\n",
    "import pandas as pd\n",
    "import numpy as np\n",
    "import requests\n",
    "import time\n",
    "import json\n",
    "from scipy.stats import linregress\n",
    "\n",
    "# Import API key\n",
    "from api_keys import weather_api_key\n",
    "\n",
    "# Incorporated citipy to determine city based on latitude and longitude\n",
    "from citipy import citipy\n",
    "\n",
    "# Output File (CSV)\n",
    "output_data_file = \"output_data\\\\cities.csv\"\n",
    "\n",
    "\n",
    "# Range of latitudes and longitudes\n",
    "lat_range = (-90, 90)\n",
    "lng_range = (-180, 180)"
   ]
  },
  {
   "cell_type": "markdown",
   "metadata": {},
   "source": [
    "## Generate Cities List"
   ]
  },
  {
   "cell_type": "code",
   "execution_count": 2,
   "metadata": {},
   "outputs": [
    {
     "data": {
      "text/plain": [
       "636"
      ]
     },
     "execution_count": 2,
     "metadata": {},
     "output_type": "execute_result"
    }
   ],
   "source": [
    "# List for holding lat_lngs and cities\n",
    "lat_lngs = []\n",
    "cities = []\n",
    "\n",
    "# Create a set of random lat and lng combinations\n",
    "lats = np.random.uniform(lat_range[0], lat_range[1], size=1500)\n",
    "lngs = np.random.uniform(lng_range[0], lng_range[1], size=1500)\n",
    "lat_lngs = zip(lats, lngs)\n",
    "\n",
    "# Identify nearest city for each lat, lng combination\n",
    "for lat_lng in lat_lngs:\n",
    "    city = citipy.nearest_city(lat_lng[0], lat_lng[1]).city_name\n",
    "    \n",
    "    # If the city is unique, then add it to a our cities list\n",
    "    if city not in cities:\n",
    "        cities.append(city)\n",
    "\n",
    "# Print the city count to confirm sufficient count\n",
    "len(cities)"
   ]
  },
  {
   "cell_type": "code",
   "execution_count": 9,
   "metadata": {
    "scrolled": true
   },
   "outputs": [
    {
     "name": "stdout",
     "output_type": "stream",
     "text": [
      "['andra', 'busselton', 'ushuaia', 'faanui', 'vaini', 'sao joao da barra', 'tiksi', 'rikitea', 'tuatapere', 'punta arenas', 'shawville', 'chokurdakh', 'mamallapuram', 'awbari', 'illoqqortoormiut', 'avarua', 'port hardy', 'kapaa', 'avera', 'romitan', 'belushya guba', 'waingapu', 'hilo', 'nantucket', 'luderitz', 'comodoro rivadavia', 'clyde river', 'khatanga', 'yellowknife', 'puerto ayora', 'bolshaya rechka', 'amderma', 'ponta do sol', 'ribeira grande', 'taolanaro', 'oudtshoorn', 'nikolskoye', 'jatiroto', 'esperance', 'hithadhoo', 'dzhebariki-khaya', 'chimbote', 'bilibino', 'coyah', 'hobart', 'dargaville', 'formosa', 'richards bay', 'nanortalik', 'north bend', 'cockburn town', 'albany', 'new norfolk', 'dabola', 'zhenlai', 'bluff', 'kodino', 'dikson', 'san patricio', 'taoudenni', 'povenets', 'fortuna', 'provideniya', 'quatre cocos', 'ha giang', 'komsomolskiy', 'sheltozero', 'baykalsk', 'paamiut', 'pevek', 'kaitangata', 'georgetown', 'severo-kurilsk', 'butaritari', 'klaksvik', 'karasburg', 'olinda', 'juliaca', 'fukue', 'thompson', 'meulaboh', 'east london', 'mataura', 'upernavik', 'saint george', 'anar darreh', 'dunedin', 'naftah', 'barrow', 'grindavik', 'isangel', 'barentsburg', 'yulara', 'srednekolymsk', 'eyl', 'marcona', 'sterlibashevo', 'aykino', 'leningradskiy', 'san angelo', 'port elizabeth', 'saskylakh', 'san cristobal', 'carnarvon', 'mao', 'mujiayingzi', 'cabanas', 'tevaitoa', 'brahmapuri', 'cape town', 'bredasdorp', 'iqaluit', 'sioux lookout', 'longyearbyen', 'salinopolis', 'pirovskoye', 'port alfred', 'makakilo city', 'extrema', 'sentyabrskiy', 'lebu', 'sao filipe', 'yarmouth', 'kushiro', 'hasaki', 'ustye', 'cabo san lucas', 'pisco', 'bengkulu', 'alyangula', 'mercedes', 'namatanai', 'atambua', 'aswan', 'bur gabo', 'great yarmouth', 'husavik', 'blagoyevo', 'shimoda', 'arraial do cabo', 'abu samrah', 'atuona', 'ahipara', 'myaundzha', 'hermanus', 'luleburgaz', 'dingle', 'iturama', 'bangassou', 'jamestown', 'flin flon', 'ilulissat', 'bethel', 'karratha', 'russell', 'galeana', 'zhezkazgan', 'attawapiskat', 'katsuura', 'sao geraldo do araguaia', 'te anau', 'yining', 'rosa zarate', 'barrhead', 'haibowan', 'yeppoon', 'lorengau', 'dandong', 'sompeta', 'bilma', 'grand centre', 'portland', 'takoradi', 'yurga', 'ayer tawar', 'tawnat', 'talara', 'qaanaaq', 'half moon bay', 'nargana', 'port-cartier', 'hamilton', 'navirai', 'tsihombe', 'burica', 'itarema', 'bata', 'asau', 'baykit', 'grand river south east', 'umzimvubu', 'waipawa', 'victoria', 'phetchabun', 'lagoa', 'mayumba', 'batemans bay', 'la ronge', 'lazaro cardenas', 'praya', 'vardo', 'torbay', 'lianyuan', 'pawican', 'aden', 'deputatskiy', 'katherine', 'imeni babushkina', 'cayenne', 'cordoba', 'sao bento', 'kirakira', 'mar del plata', 'sao gabriel da cachoeira', 'cidreira', 'zakamensk', 'nkowakowa', 'atar', 'saldanha', 'lavrentiya', 'saleaula', 'okahandja', 'chapais', 'mount isa', 'riyadh', 'nizhneyansk', 'bambous virieux', 'port lincoln', 'chicama', 'yerbogachen', 'mitsamiouli', 'abbeville', 'kaina', 'kahului', 'kodiak', 'voyvozh', 'vaitape', 'bonavista', 'abha', 'satitoa', 'chornobay', 'puerto penasco', 'marsh harbour', 'havre-saint-pierre', 'nauta', 'kropotkin', 'atikokan', 'menongue', 'bowen', 'bandarbeyla', 'providencia', 'leua', 'samarai', 'juneau', 'kaabong', 'georgiyevka', 'kazalinsk', 'mwingi', 'thunder bay', 'broome', 'katha', 'urumqi', 'terrak', 'durango', 'namibe', 'trecate', 'padang', 'salalah', 'chuy', 'lazarev', 'nachingwea', 'tasiilaq', 'fairbanks', 'norman wells', 'mandalgovi', 'ambilobe', 'pangai', 'san andres', 'margate', 'santa cruz', 'khonuu', 'primo tapia', 'shestakovo', 'manta', 'yanam', 'kindu', 'yenotayevka', 'kankon', 'cananeia', 'kroya', 'south venice', 'saint-augustin', 'krasnoarmeyskiy', 'kemin', 'las vegas', 'samusu', 'potamia', 'kunya', 'ostrovnoy', 'narsaq', 'brownsville', 'grand forks', 'mahebourg', 'eureka', 'trinidad', 'san felipe', 'tartus', 'bairiki', 'sorong', 'vranje', 'sinnamary', 'kloulklubed', 'martaban', 'zhanaozen', 'sarakhs', 'mende', 'machachi', 'la plata', 'touros', 'maragogi', 'tupik', 'castro', 'nalut', 'hun', 'lashio', 'vanimo', 'ahuimanu', 'tigzirt', 'anchorage', 'kudat', 'alice springs', 'ust-nera', 'talnakh', 'zaragoza', 'brejo da madre de deus', 'mazamitla', 'zhigansk', 'coihaique', 'arlit', 'magdalena', 'nome', 'kokstad', 'olavarria', 'stavrovo', 'manavalakurichi', 'mount gambier', 'rawannawi', 'savage', 'belyy yar', 'hennigsdorf', 'kieta', 'at-bashi', 'jerome', 'velez-malaga', 'vila franca do campo', 'sambava', 'alta floresta', 'cabedelo', 'yaguachi', 'puerto baquerizo moreno', 'yermakovskoye', 'moskovskiy', 'tsovak', 'chodavaram', 'vestmanna', 'himeji', 'conceicao do araguaia', 'teguise', 'ancud', 'sayyan', 'challans', 'lewiston', 'vaitupu', 'harper', 'skalistyy', 'zhuhai', 'kruisfontein', 'rawson', 'omboue', 'wulanhaote', 'puerto del rosario', 'tessalit', 'lompoc', 'keuruu', 'mapastepec', 'kutum', 'ardistan', 'redcar', 'mys shmidta', 'kaeo', 'biak', 'flinders', 'yar-sale', 'gimli', 'tungkang', 'rio grande', 'acapulco', 'sitka', 'lata', 'ust-kuyga', 'mehamn', 'ndele', 'hopewell', 'ponta delgada', 'prabumulih', 'airai', 'tucuman', 'raudeberg', 'cagayan de tawi-tawi', 'paraiso', 'soyo', 'gazanjyk', 'iquique', 'kathu', 'qaqortoq', 'sisimiut', 'dasoguz', 'panormos', 'souillac', 'banepa', 'viedma', 'kamenskoye', 'leiyang', 'jieshi', 'winton', 'turukhansk', 'aksu', 'bathsheba', 'keelung', 'ayan', 'jaque', 'palmer', 'karaton', 'hambantota', 'tuktoyaktuk', 'xichang', 'nanakuli', 'okha', 'nanga eboko', 'port-gentil', 'yumen', 'santarem', 'beypur', 'ihosy', 'krasnoarmeysk', 'inongo', 'zheleznodorozhnyy', 'port macquarie', 'cam ranh', 'clinton', 'chateau-thierry', 'korla', 'codrington', 'geraldton', 'walvis bay', 'novyy yegorlyk', 'batagay-alyta', 'nileshwar', 'dawei', 'kavaratti', 'khani', 'ormara', 'karkaralinsk', 'reforma', 'semporna', 'hofn', 'reo', 'loa janan', 'kimbe', 'shiraz', 'medea', 'stabat', 'maloshuyka', 'issoire', 'san juan', 'laguna', 'tokmak', 'garowe', 'jawar', 'coquimbo', 'northam', 'mazagao', 'chibombo', 'suntar', 'nishihara', 'arman', 'general pico', 'tura', 'tarko-sale', 'tukrah', 'hibbing', 'ibra', 'parry sound', 'houma', 'dzhusaly', 'dwarka', 'xining', 'tiznit', 'kismayo', 'claremore', 'noshiro', 'necochea', 'dujuma', 'knysna', 'phangnga', 'dunda', 'regina', 'tilichiki', 'punta alta', 'higuey', 'muros', 'thaba-tseka', 'brae', 'ranong', 'san ramon', 'mukhen', 'kemijarvi', 'changying', 'arkhara', 'carupano', 'mocuba', 'bahia blanca', 'kendari', 'vryburg', 'tazovskiy', 'tyukhtet', 'los llanos de aridane', 'waddan', 'vao', 'cimitarra', 'lima', 'kushmurun', 'kodumudi', 'tacoronte', 'bure', 'maamba', 'guerrero negro', 'bereda', 'saint anthony', 'nakamura', 'aiquile', 'clarence town', 'cap-aux-meules', 'sataua', 'udachnyy', 'bolobo', 'moissala', 'vila velha', 'meyungs', 'haines junction', 'patea', 'almaznyy', 'upata', 'lalmohan', 'leeton', 'ajdabiya', 'forestville', 'sainte-maxime', 'jizan', 'utinga', 'timmins', 'taitung', 'lasa', 'palana', 'hualmay', 'lingao', 'saint-philippe', 'jilmah', 'seddon', 'tamworth', 'bada', 'garissa', 'selizharovo', 'nioaque', 'dubbo', 'nouadhibou', 'san clemente', 'khorol', 'bartica', 'rafaela', 'sao felix do xingu', 'luwuk', 'skagastrond', 'kinsale', 'cherskiy', 'rab', 'caiaponia', 'sawtell', 'melo', 'mildura', 'manaus', 'baherden', 'umm lajj', 'nelson bay', 'sosnovo-ozerskoye', 'pouebo', 'labuhan', 'aykhal', 'halalo', 'kalemie', 'lukulu', 'cedar city', 'hovd', 'atasu', 'bac lieu', 'fort nelson', 'pushkar', 'uglekamensk', 'carauari', 'ishim', 'ruston', 'gizo', 'isverna', 'christchurch', 'shubarshi', 'segezha', 'aklavik', 'anadyr', 'meiganga', 'guilin']\n"
     ]
    }
   ],
   "source": [
    "print(cities)"
   ]
  },
  {
   "cell_type": "markdown",
   "metadata": {},
   "source": [
    "### Perform API Calls\n",
    "* Perform a weather check on each city using a series of successive API calls.\n",
    "* Include a print log of each city as it'sbeing processed (with the city number and city name).\n"
   ]
  },
  {
   "cell_type": "markdown",
   "metadata": {
    "scrolled": true
   },
   "source": [
    "url=\"http://api.openweathermap.org/data/2.5/weather?units=Imperial&APPID=\"+weather_api_key+\"&q=olga\"\n",
    "olga=requests.get(url).json()\n",
    "olga"
   ]
  },
  {
   "cell_type": "code",
   "execution_count": 3,
   "metadata": {},
   "outputs": [
    {
     "name": "stdout",
     "output_type": "stream",
     "text": [
      "Mandalī [{'id': 803, 'main': 'Clouds', 'description': 'broken clouds', 'icon': '04d'}] 93709\n"
     ]
    }
   ],
   "source": [
    "weather_api_key='b7040594e7bfe4dfd4b7efa04aea91b9'\n",
    "counter=0\n",
    "for city in cities:\n",
    "    if counter == 1:\n",
    "        break\n",
    "    url=\"http://api.openweathermap.org/data/2.5/weather?units=Imperial&APPID=\"+weather_api_key+\"&q=\"+city\n",
    "    city=requests.get(url).json()\n",
    "    #print(city)\n",
    "    counter+=1\n",
    "    \n",
    "    name=city['name']\n",
    "    weather=city['weather']\n",
    "    idx=city['id']\n",
    "    print(name,weather,idx)\n",
    "    "
   ]
  },
  {
   "cell_type": "markdown",
   "metadata": {},
   "source": [
    "### Convert Raw Data to DataFrame\n",
    "* Export the city data into a .csv.\n",
    "* Display the DataFrame"
   ]
  },
  {
   "cell_type": "code",
   "execution_count": 4,
   "metadata": {},
   "outputs": [
    {
     "name": "stdout",
     "output_type": "stream",
     "text": [
      "{'coord': {'lon': 45.55, 'lat': 33.75}, 'weather': [{'id': 803, 'main': 'Clouds', 'description': 'broken clouds', 'icon': '04d'}], 'base': 'stations', 'main': {'temp': 81.16, 'feels_like': 72.86, 'temp_min': 81.16, 'temp_max': 81.16, 'pressure': 1018, 'humidity': 16, 'sea_level': 1018, 'grnd_level': 1004}, 'visibility': 10000, 'wind': {'speed': 8.05, 'deg': 131}, 'clouds': {'all': 58}, 'dt': 1604379078, 'sys': {'country': 'IQ', 'sunrise': 1604373531, 'sunset': 1604412228}, 'timezone': 10800, 'id': 93709, 'name': 'Mandalī', 'cod': 200}\n",
      "{'coord': {'lon': -155.09, 'lat': 19.73}, 'weather': [{'id': 803, 'main': 'Clouds', 'description': 'broken clouds', 'icon': '04n'}], 'base': 'stations', 'main': {'temp': 74.7, 'feels_like': 80.02, 'temp_min': 71.01, 'temp_max': 78.8, 'pressure': 1018, 'humidity': 83}, 'visibility': 10000, 'wind': {'speed': 3.36, 'deg': 260}, 'clouds': {'all': 75}, 'dt': 1604379084, 'sys': {'type': 1, 'id': 7881, 'country': 'US', 'sunrise': 1604334138, 'sunset': 1604375127}, 'timezone': -36000, 'id': 5855927, 'name': 'Hilo', 'cod': 200}\n",
      "{'coord': {'lon': -135.01, 'lat': 68.22}, 'weather': [{'id': 804, 'main': 'Clouds', 'description': 'overcast clouds', 'icon': '04n'}], 'base': 'stations', 'main': {'temp': 1.4, 'feels_like': -6.88, 'temp_min': 1.4, 'temp_max': 1.4, 'pressure': 1012, 'humidity': 84, 'sea_level': 1012, 'grnd_level': 1011}, 'visibility': 50, 'wind': {'speed': 3.36, 'deg': 190}, 'clouds': {'all': 100}, 'dt': 1604379085, 'sys': {'type': 1, 'id': 1029, 'country': 'CA', 'sunrise': 1604337594, 'sunset': 1604362033}, 'timezone': -25200, 'id': 5882953, 'name': 'Aklavik', 'cod': 200}\n",
      "{'coord': {'lon': 73.08, 'lat': -0.6}, 'weather': [{'id': 804, 'main': 'Clouds', 'description': 'overcast clouds', 'icon': '04d'}], 'base': 'stations', 'main': {'temp': 80.71, 'feels_like': 86.38, 'temp_min': 80.71, 'temp_max': 80.71, 'pressure': 1013, 'humidity': 77, 'sea_level': 1013, 'grnd_level': 1013}, 'visibility': 10000, 'wind': {'speed': 6.11, 'deg': 246}, 'clouds': {'all': 100}, 'dt': 1604379085, 'sys': {'country': 'MV', 'sunrise': 1604364427, 'sunset': 1604408118}, 'timezone': 18000, 'id': 1282256, 'name': 'Hithadhoo', 'cod': 200}\n",
      "{'coord': {'lon': 57.53, 'lat': 22.93}, 'weather': [{'id': 800, 'main': 'Clear', 'description': 'clear sky', 'icon': '01d'}], 'base': 'stations', 'main': {'temp': 80.44, 'feels_like': 75.49, 'temp_min': 80.44, 'temp_max': 80.44, 'pressure': 1019, 'humidity': 13, 'sea_level': 1019, 'grnd_level': 961}, 'visibility': 10000, 'wind': {'speed': 0.85, 'deg': 240}, 'clouds': {'all': 0}, 'dt': 1604379085, 'sys': {'country': 'OM', 'sunrise': 1604369757, 'sunset': 1604410251}, 'timezone': 14400, 'id': 286987, 'name': 'Nizwá', 'cod': 200}\n",
      "{'coord': {'lon': -68.3, 'lat': -54.8}, 'weather': [{'id': 800, 'main': 'Clear', 'description': 'clear sky', 'icon': '01n'}], 'base': 'stations', 'main': {'temp': 44.6, 'feels_like': 42.22, 'temp_min': 44.6, 'temp_max': 44.6, 'pressure': 1014, 'humidity': 87}, 'visibility': 10000, 'wind': {'speed': 0.6, 'deg': 282}, 'clouds': {'all': 0}, 'dt': 1604378867, 'sys': {'type': 1, 'id': 8303, 'country': 'AR', 'sunrise': 1604392752, 'sunset': 1604447655}, 'timezone': -10800, 'id': 3833367, 'name': 'Ushuaia', 'cod': 200}\n",
      "{'coord': {'lon': -79.24, 'lat': 42.1}, 'weather': [{'id': 804, 'main': 'Clouds', 'description': 'overcast clouds', 'icon': '04n'}], 'base': 'stations', 'main': {'temp': 39.65, 'feels_like': 24.19, 'temp_min': 37.4, 'temp_max': 44.01, 'pressure': 1013, 'humidity': 55}, 'visibility': 10000, 'wind': {'speed': 19.46, 'deg': 260, 'gust': 24.16}, 'clouds': {'all': 90}, 'dt': 1604378873, 'sys': {'type': 1, 'id': 4588, 'country': 'US', 'sunrise': 1604317895, 'sunset': 1604354962}, 'timezone': -18000, 'id': 5122534, 'name': 'Jamestown', 'cod': 200}\n",
      "{'coord': {'lon': -156.79, 'lat': 71.29}, 'weather': [{'id': 803, 'main': 'Clouds', 'description': 'broken clouds', 'icon': '04n'}], 'base': 'stations', 'main': {'temp': 28.4, 'feels_like': 16.34, 'temp_min': 28.4, 'temp_max': 28.4, 'pressure': 1008, 'humidity': 74}, 'visibility': 10000, 'wind': {'speed': 12.75, 'deg': 260}, 'clouds': {'all': 75}, 'dt': 1604378856, 'sys': {'type': 1, 'id': 7649, 'country': 'US', 'sunrise': 1604345016, 'sunset': 1604365066}, 'timezone': -32400, 'id': 5880054, 'name': 'Barrow', 'cod': 200}\n",
      "{'coord': {'lon': 115.33, 'lat': -33.65}, 'weather': [{'id': 803, 'main': 'Clouds', 'description': 'broken clouds', 'icon': '04d'}], 'base': 'stations', 'main': {'temp': 64.76, 'feels_like': 62.65, 'temp_min': 64, 'temp_max': 66, 'pressure': 1021, 'humidity': 73}, 'visibility': 10000, 'wind': {'speed': 7, 'deg': 199, 'gust': 11.99}, 'clouds': {'all': 74}, 'dt': 1604379085, 'sys': {'type': 3, 'id': 2020551, 'country': 'AU', 'sunrise': 1604351796, 'sunset': 1604400468}, 'timezone': 28800, 'id': 2075265, 'name': 'Busselton', 'cod': 200}\n",
      "{'cod': '404', 'message': 'city not found'}\n",
      "{'coord': {'lon': 138.02, 'lat': -33.18}, 'weather': [{'id': 801, 'main': 'Clouds', 'description': 'few clouds', 'icon': '02d'}], 'base': 'stations', 'main': {'temp': 96.8, 'feels_like': 85.17, 'temp_min': 96.8, 'temp_max': 96.8, 'pressure': 1013, 'humidity': 15}, 'visibility': 10000, 'wind': {'speed': 17.22, 'deg': 340}, 'clouds': {'all': 14}, 'dt': 1604379085, 'sys': {'type': 1, 'id': 9613, 'country': 'AU', 'sunrise': 1604346400, 'sunset': 1604394973}, 'timezone': 37800, 'id': 2063030, 'name': 'Port Pirie', 'cod': 200}\n",
      "{'coord': {'lon': 121.9, 'lat': -33.87}, 'weather': [{'id': 804, 'main': 'Clouds', 'description': 'overcast clouds', 'icon': '04d'}], 'base': 'stations', 'main': {'temp': 60.8, 'feels_like': 53.28, 'temp_min': 60.8, 'temp_max': 60.8, 'pressure': 1019, 'humidity': 87}, 'visibility': 10000, 'wind': {'speed': 17.22, 'deg': 210}, 'clouds': {'all': 90}, 'dt': 1604379085, 'sys': {'type': 1, 'id': 9525, 'country': 'AU', 'sunrise': 1604350198, 'sunset': 1604398912}, 'timezone': 28800, 'id': 2071860, 'name': 'Esperance', 'cod': 200}\n",
      "{'coord': {'lon': 72.02, 'lat': 24.52}, 'weather': [{'id': 800, 'main': 'Clear', 'description': 'clear sky', 'icon': '01d'}], 'base': 'stations', 'main': {'temp': 84.47, 'feels_like': 80.98, 'temp_min': 84.47, 'temp_max': 84.47, 'pressure': 1016, 'humidity': 18, 'sea_level': 1016, 'grnd_level': 1001}, 'visibility': 10000, 'wind': {'speed': 1.07, 'deg': 162}, 'clouds': {'all': 0}, 'dt': 1604379085, 'sys': {'country': 'IN', 'sunrise': 1604366400, 'sunset': 1604406654}, 'timezone': 19800, 'id': 1272962, 'name': 'Dhanera', 'cod': 200}\n",
      "{'coord': {'lon': -114.35, 'lat': 62.46}, 'weather': [{'id': 600, 'main': 'Snow', 'description': 'light snow', 'icon': '13n'}], 'base': 'stations', 'main': {'temp': 10.72, 'feels_like': 0.23, 'temp_min': 10.4, 'temp_max': 10.99, 'pressure': 1002, 'humidity': 85}, 'visibility': 3219, 'wind': {'speed': 8.05, 'deg': 50}, 'clouds': {'all': 90}, 'dt': 1604379086, 'sys': {'type': 1, 'id': 1007, 'country': 'CA', 'sunrise': 1604330155, 'sunset': 1604359555}, 'timezone': -25200, 'id': 6185377, 'name': 'Yellowknife', 'cod': 200}\n",
      "{'coord': {'lon': 3.98, 'lat': 51.82}, 'weather': [{'id': 800, 'main': 'Clear', 'description': 'clear sky', 'icon': '01n'}], 'base': 'stations', 'main': {'temp': 48.06, 'feels_like': 37.13, 'temp_min': 46.99, 'temp_max': 48.99, 'pressure': 1018, 'humidity': 74}, 'visibility': 10000, 'wind': {'speed': 15.52, 'deg': 240}, 'clouds': {'all': 0}, 'dt': 1604379086, 'sys': {'type': 3, 'id': 2007053, 'country': 'NL', 'sunrise': 1604385753, 'sunset': 1604419960}, 'timezone': 3600, 'id': 2755485, 'name': 'Goedereede', 'cod': 200}\n",
      "{'coord': {'lon': 90.22, 'lat': 25.52}, 'weather': [{'id': 803, 'main': 'Clouds', 'description': 'broken clouds', 'icon': '04d'}], 'base': 'stations', 'main': {'temp': 81.25, 'feels_like': 87.39, 'temp_min': 81.25, 'temp_max': 81.25, 'pressure': 1013, 'humidity': 71, 'sea_level': 1013, 'grnd_level': 971}, 'visibility': 10000, 'wind': {'speed': 3.49, 'deg': 238}, 'clouds': {'all': 56}, 'dt': 1604379086, 'sys': {'country': 'IN', 'sunrise': 1604362107, 'sunset': 1604402210}, 'timezone': 19800, 'id': 1254046, 'name': 'Tura', 'cod': 200}\n",
      "{'coord': {'lon': 30.79, 'lat': 59.7}, 'weather': [{'id': 804, 'main': 'Clouds', 'description': 'overcast clouds', 'icon': '04n'}], 'base': 'stations', 'main': {'temp': 46.13, 'feels_like': 37.72, 'temp_min': 46, 'temp_max': 46.4, 'pressure': 1008, 'humidity': 81}, 'visibility': 10000, 'wind': {'speed': 11.18, 'deg': 170, 'gust': 22.37}, 'clouds': {'all': 90}, 'dt': 1604379086, 'sys': {'type': 1, 'id': 8926, 'country': 'RU', 'sunrise': 1604381001, 'sunset': 1604411843}, 'timezone': 10800, 'id': 546105, 'name': 'Nikolskoye', 'cod': 200}\n",
      "{'coord': {'lon': 115.75, 'lat': 5.35}, 'weather': [{'id': 801, 'main': 'Clouds', 'description': 'few clouds', 'icon': '02d'}], 'base': 'stations', 'main': {'temp': 89.6, 'feels_like': 97.11, 'temp_min': 89.6, 'temp_max': 89.6, 'pressure': 1010, 'humidity': 59}, 'visibility': 10000, 'wind': {'speed': 3.36, 'deg': 0}, 'clouds': {'all': 20}, 'dt': 1604378893, 'sys': {'type': 1, 'id': 9372, 'country': 'MY', 'sunrise': 1604354571, 'sunset': 1604397491}, 'timezone': 28800, 'id': 1733874, 'name': 'Beaufort', 'cod': 200}\n"
     ]
    },
    {
     "name": "stdout",
     "output_type": "stream",
     "text": [
      "{'coord': {'lon': 71.89, 'lat': 52.35}, 'weather': [{'id': 803, 'main': 'Clouds', 'description': 'broken clouds', 'icon': '04d'}], 'base': 'stations', 'main': {'temp': 32.22, 'feels_like': 22.12, 'temp_min': 32.22, 'temp_max': 32.22, 'pressure': 1030, 'humidity': 91, 'sea_level': 1030, 'grnd_level': 991}, 'visibility': 10000, 'wind': {'speed': 11.05, 'deg': 318}, 'clouds': {'all': 63}, 'dt': 1604379086, 'sys': {'country': 'KZ', 'sunrise': 1604369526, 'sunset': 1604403590}, 'timezone': 21600, 'id': 1537939, 'name': 'Stepnogorsk', 'cod': 200}\n",
      "{'coord': {'lon': 53.47, 'lat': 54.48}, 'weather': [{'id': 800, 'main': 'Clear', 'description': 'clear sky', 'icon': '01d'}], 'base': 'stations', 'main': {'temp': 35.02, 'feels_like': 29.48, 'temp_min': 35.02, 'temp_max': 35.02, 'pressure': 1032, 'humidity': 87, 'sea_level': 1032, 'grnd_level': 1015}, 'visibility': 10000, 'wind': {'speed': 3.38, 'deg': 82}, 'clouds': {'all': 0}, 'dt': 1604379086, 'sys': {'country': 'RU', 'sunrise': 1604374349, 'sunset': 1604407609}, 'timezone': 18000, 'id': 515879, 'name': \"Oktyabr'skiy\", 'cod': 200}\n",
      "{'coord': {'lon': -80.03, 'lat': 0.6}, 'weather': [{'id': 804, 'main': 'Clouds', 'description': 'overcast clouds', 'icon': '04n'}], 'base': 'stations', 'main': {'temp': 74.8, 'feels_like': 77.67, 'temp_min': 74.8, 'temp_max': 74.8, 'pressure': 1014, 'humidity': 83, 'sea_level': 1014, 'grnd_level': 1014}, 'visibility': 10000, 'wind': {'speed': 7.85, 'deg': 229}, 'clouds': {'all': 87}, 'dt': 1604379086, 'sys': {'country': 'EC', 'sunrise': 1604314850, 'sunset': 1604358386}, 'timezone': -18000, 'id': 3653967, 'name': 'Muisne', 'cod': 200}\n",
      "{'coord': {'lon': 161.3, 'lat': 68.75}, 'weather': [{'id': 804, 'main': 'Clouds', 'description': 'overcast clouds', 'icon': '04n'}], 'base': 'stations', 'main': {'temp': -8.48, 'feels_like': -19.53, 'temp_min': -8.48, 'temp_max': -8.48, 'pressure': 1028, 'humidity': 88, 'sea_level': 1028, 'grnd_level': 1028}, 'visibility': 10000, 'wind': {'speed': 7.76, 'deg': 202}, 'clouds': {'all': 91}, 'dt': 1604379086, 'sys': {'country': 'RU', 'sunrise': 1604353240, 'sunset': 1604376958}, 'timezone': 39600, 'id': 2126199, 'name': 'Cherskiy', 'cod': 200}\n",
      "{'coord': {'lon': -35.15, 'lat': -8.9}, 'weather': [{'id': 803, 'main': 'Clouds', 'description': 'broken clouds', 'icon': '04n'}], 'base': 'stations', 'main': {'temp': 77.49, 'feels_like': 81.99, 'temp_min': 77.49, 'temp_max': 77.49, 'pressure': 1010, 'humidity': 81, 'sea_level': 1010, 'grnd_level': 1009}, 'visibility': 10000, 'wind': {'speed': 6.64, 'deg': 50}, 'clouds': {'all': 73}, 'dt': 1604379087, 'sys': {'country': 'BR', 'sunrise': 1604389852, 'sunset': 1604434644}, 'timezone': -10800, 'id': 3388456, 'name': 'São José da Coroa Grande', 'cod': 200}\n",
      "{'coord': {'lon': 27.91, 'lat': -33.02}, 'weather': [{'id': 800, 'main': 'Clear', 'description': 'clear sky', 'icon': '01d'}], 'base': 'stations', 'main': {'temp': 64.4, 'feels_like': 65.93, 'temp_min': 64.4, 'temp_max': 64.4, 'pressure': 1014, 'humidity': 93}, 'visibility': 10000, 'wind': {'speed': 4.7, 'deg': 60}, 'clouds': {'all': 0}, 'dt': 1604379087, 'sys': {'type': 1, 'id': 1912, 'country': 'ZA', 'sunrise': 1604372825, 'sunset': 1604421401}, 'timezone': 7200, 'id': 1006984, 'name': 'East London', 'cod': 200}\n",
      "{'coord': {'lon': 26.89, 'lat': -33.59}, 'weather': [{'id': 801, 'main': 'Clouds', 'description': 'few clouds', 'icon': '02d'}], 'base': 'stations', 'main': {'temp': 68.86, 'feels_like': 62.28, 'temp_min': 68.86, 'temp_max': 68.86, 'pressure': 1014, 'humidity': 80, 'sea_level': 1014, 'grnd_level': 1012}, 'visibility': 10000, 'wind': {'speed': 19.17, 'deg': 61}, 'clouds': {'all': 14}, 'dt': 1604379087, 'sys': {'country': 'ZA', 'sunrise': 1604373014, 'sunset': 1604421702}, 'timezone': 7200, 'id': 964432, 'name': 'Port Alfred', 'cod': 200}\n",
      "{'coord': {'lon': 10.85, 'lat': 30.33}, 'weather': [{'id': 803, 'main': 'Clouds', 'description': 'broken clouds', 'icon': '04n'}], 'base': 'stations', 'main': {'temp': 55.56, 'feels_like': 49.69, 'temp_min': 55.56, 'temp_max': 55.56, 'pressure': 1024, 'humidity': 80, 'sea_level': 1024, 'grnd_level': 963}, 'visibility': 10000, 'wind': {'speed': 10.31, 'deg': 123}, 'clouds': {'all': 54}, 'dt': 1604379087, 'sys': {'country': 'LY', 'sunrise': 1604381560, 'sunset': 1604420856}, 'timezone': 7200, 'id': 2214432, 'name': 'Nālūt', 'cod': 200}\n",
      "{'coord': {'lon': 33.57, 'lat': 13.57}, 'weather': [{'id': 800, 'main': 'Clear', 'description': 'clear sky', 'icon': '01d'}], 'base': 'stations', 'main': {'temp': 82.44, 'feels_like': 76.21, 'temp_min': 82.44, 'temp_max': 82.44, 'pressure': 1011, 'humidity': 29, 'sea_level': 1011, 'grnd_level': 963}, 'visibility': 10000, 'wind': {'speed': 9.8, 'deg': 9}, 'clouds': {'all': 0}, 'dt': 1604379087, 'sys': {'country': 'SD', 'sunrise': 1604374843, 'sunset': 1604416667}, 'timezone': 7200, 'id': 367644, 'name': 'Sennar', 'cod': 200}\n",
      "{'cod': '404', 'message': 'city not found'}\n",
      "{'coord': {'lon': -6.59, 'lat': 62.23}, 'weather': [{'id': 500, 'main': 'Rain', 'description': 'light rain', 'icon': '10n'}], 'base': 'stations', 'main': {'temp': 42.8, 'feels_like': 26.49, 'temp_min': 42.8, 'temp_max': 42.8, 'pressure': 990, 'humidity': 81}, 'visibility': 10000, 'wind': {'speed': 24.16, 'deg': 260, 'gust': 36.91}, 'clouds': {'all': 2}, 'dt': 1604379087, 'sys': {'type': 1, 'id': 1596, 'country': 'FO', 'sunrise': 1604390741, 'sunset': 1604420046}, 'timezone': 0, 'id': 2618795, 'name': 'Klaksvík', 'cod': 200}\n",
      "{'coord': {'lon': -159.32, 'lat': 22.08}, 'weather': [{'id': 800, 'main': 'Clear', 'description': 'clear sky', 'icon': '01n'}], 'base': 'stations', 'main': {'temp': 75.49, 'feels_like': 78.3, 'temp_min': 73, 'temp_max': 78.8, 'pressure': 1018, 'humidity': 78}, 'visibility': 10000, 'wind': {'speed': 6.93, 'deg': 50}, 'clouds': {'all': 1}, 'dt': 1604379087, 'sys': {'type': 1, 'id': 7873, 'country': 'US', 'sunrise': 1604335325, 'sunset': 1604375971}, 'timezone': -36000, 'id': 5848280, 'name': 'Kapaa', 'cod': 200}\n",
      "{'coord': {'lon': 28.68, 'lat': 7.27}, 'weather': [{'id': 803, 'main': 'Clouds', 'description': 'broken clouds', 'icon': '04d'}], 'base': 'stations', 'main': {'temp': 76.15, 'feels_like': 82.36, 'temp_min': 76.15, 'temp_max': 76.15, 'pressure': 1011, 'humidity': 79, 'sea_level': 1011, 'grnd_level': 962}, 'visibility': 10000, 'wind': {'speed': 1.77, 'deg': 99}, 'clouds': {'all': 55}, 'dt': 1604379087, 'sys': {'country': 'SS', 'sunrise': 1604375596, 'sunset': 1604418261}, 'timezone': 10800, 'id': 365763, 'name': 'Tonj', 'cod': 200}\n",
      "{'coord': {'lon': 36.55, 'lat': 50.68}, 'weather': [{'id': 500, 'main': 'Rain', 'description': 'light rain', 'icon': '10d'}], 'base': 'stations', 'main': {'temp': 46.4, 'feels_like': 43.05, 'temp_min': 46.4, 'temp_max': 46.4, 'pressure': 1019, 'humidity': 100}, 'visibility': 8000, 'wind': {'speed': 4.47, 'deg': 150}, 'rain': {'1h': 0.18}, 'clouds': {'all': 90}, 'dt': 1604379087, 'sys': {'type': 1, 'id': 9030, 'country': 'RU', 'sunrise': 1604377735, 'sunset': 1604412344}, 'timezone': 10800, 'id': 496358, 'name': 'Severnyy', 'cod': 200}\n",
      "{'coord': {'lon': 100.34, 'lat': 5.41}, 'weather': [{'id': 801, 'main': 'Clouds', 'description': 'few clouds', 'icon': '02d'}], 'base': 'stations', 'main': {'temp': 81.36, 'feels_like': 88.21, 'temp_min': 80.01, 'temp_max': 82.4, 'pressure': 1012, 'humidity': 83}, 'visibility': 6000, 'wind': {'speed': 6.93, 'deg': 200}, 'clouds': {'all': 20}, 'dt': 1604379087, 'sys': {'type': 1, 'id': 9429, 'country': 'MY', 'sunrise': 1604358274, 'sunset': 1604401185}, 'timezone': 28800, 'id': 1735106, 'name': 'George Town', 'cod': 200}\n",
      "{'coord': {'lon': -133.04, 'lat': 69.45}, 'weather': [{'id': 600, 'main': 'Snow', 'description': 'light snow', 'icon': '13n'}], 'base': 'stations', 'main': {'temp': 5, 'feels_like': -7.04, 'temp_min': 5, 'temp_max': 5, 'pressure': 1010, 'humidity': 84}, 'visibility': 10000, 'wind': {'speed': 10.29, 'deg': 240}, 'clouds': {'all': 90}, 'dt': 1604379088, 'sys': {'type': 1, 'id': 942, 'country': 'CA', 'sunrise': 1604337879, 'sunset': 1604360802}, 'timezone': -25200, 'id': 6170031, 'name': 'Tuktoyaktuk', 'cod': 200}\n",
      "{'coord': {'lon': -67.58, 'lat': -39.03}, 'weather': [{'id': 800, 'main': 'Clear', 'description': 'clear sky', 'icon': '01n'}], 'base': 'stations', 'main': {'temp': 73.4, 'feels_like': 68.61, 'temp_min': 73.4, 'temp_max': 73.4, 'pressure': 1012, 'humidity': 38}, 'visibility': 10000, 'wind': {'speed': 6.93, 'deg': 270}, 'clouds': {'all': 0}, 'dt': 1604379088, 'sys': {'type': 1, 'id': 8310, 'country': 'AR', 'sunrise': 1604395091, 'sunset': 1604444971}, 'timezone': -10800, 'id': 3855065, 'name': 'General Roca', 'cod': 200}\n"
     ]
    },
    {
     "name": "stdout",
     "output_type": "stream",
     "text": [
      "{'cod': '404', 'message': 'city not found'}\n",
      "{'coord': {'lon': 25.57, 'lat': -33.92}, 'weather': [{'id': 801, 'main': 'Clouds', 'description': 'few clouds', 'icon': '02d'}], 'base': 'stations', 'main': {'temp': 64.4, 'feels_like': 60.13, 'temp_min': 64.4, 'temp_max': 64.4, 'pressure': 1013, 'humidity': 93}, 'visibility': 10000, 'wind': {'speed': 14.99, 'deg': 60}, 'clouds': {'all': 20}, 'dt': 1604379088, 'sys': {'type': 1, 'id': 1973, 'country': 'ZA', 'sunrise': 1604373298, 'sunset': 1604422051}, 'timezone': 7200, 'id': 964420, 'name': 'Port Elizabeth', 'cod': 200}\n",
      "{'coord': {'lon': 31.9, 'lat': 54.43}, 'weather': [{'id': 802, 'main': 'Clouds', 'description': 'scattered clouds', 'icon': '03n'}], 'base': 'stations', 'main': {'temp': 39.09, 'feels_like': 33.64, 'temp_min': 39.09, 'temp_max': 39.09, 'pressure': 1021, 'humidity': 96, 'sea_level': 1021, 'grnd_level': 998}, 'visibility': 10000, 'wind': {'speed': 5.08, 'deg': 141}, 'clouds': {'all': 37}, 'dt': 1604379088, 'sys': {'country': 'RU', 'sunrise': 1604379523, 'sunset': 1604412788}, 'timezone': 10800, 'id': 525426, 'name': 'Sobolevo', 'cod': 200}\n",
      "{'coord': {'lon': 30.39, 'lat': 59.62}, 'weather': [{'id': 500, 'main': 'Rain', 'description': 'light rain', 'icon': '10n'}], 'base': 'stations', 'main': {'temp': 46.2, 'feels_like': 37.81, 'temp_min': 46, 'temp_max': 46.4, 'pressure': 1008, 'humidity': 81}, 'visibility': 10000, 'wind': {'speed': 11.18, 'deg': 170, 'gust': 22.37}, 'rain': {'1h': 0.19}, 'clouds': {'all': 90}, 'dt': 1604379088, 'sys': {'type': 1, 'id': 8926, 'country': 'RU', 'sunrise': 1604381076, 'sunset': 1604411960}, 'timezone': 10800, 'id': 545788, 'name': 'Kommunar', 'cod': 200}\n",
      "{'coord': {'lon': -175.2, 'lat': -21.2}, 'weather': [{'id': 803, 'main': 'Clouds', 'description': 'broken clouds', 'icon': '04n'}], 'base': 'stations', 'main': {'temp': 77, 'feels_like': 78.19, 'temp_min': 77, 'temp_max': 77, 'pressure': 1018, 'humidity': 83}, 'visibility': 10000, 'wind': {'speed': 12.75, 'deg': 110, 'gust': 26.4}, 'clouds': {'all': 75}, 'dt': 1604379088, 'sys': {'type': 1, 'id': 7285, 'country': 'TO', 'sunrise': 1604422570, 'sunset': 1604469150}, 'timezone': 46800, 'id': 4032243, 'name': 'Vaini', 'cod': 200}\n"
     ]
    }
   ],
   "source": [
    "#create empty list\n",
    "city_data=[]\n",
    "for c in cities[:40]:\n",
    "# Parse the JSON and retrieve data\n",
    "    url=\"http://api.openweathermap.org/data/2.5/weather?units=Imperial&APPID=\"+weather_api_key+\"&q=\"+c\n",
    "    city_weather = requests.get(url)\n",
    "    city_weather = city_weather.json()\n",
    "    print(city_weather)\n",
    "    \n",
    "\n",
    "    if city_weather['cod']==200:\n",
    "        # Parse out the max temp, humidity, and cloudiness\n",
    "        city_lat = city_weather[\"coord\"][\"lat\"]\n",
    "        city_lng = city_weather[\"coord\"][\"lon\"]\n",
    "        city_max_temp = city_weather[\"main\"][\"temp_max\"]\n",
    "        city_humidity = city_weather[\"main\"][\"humidity\"]\n",
    "        city_clouds = city_weather[\"clouds\"][\"all\"]\n",
    "        city_wind = city_weather[\"wind\"][\"speed\"]\n",
    "        city_country = city_weather[\"sys\"][\"country\"]\n",
    "        city_date = city_weather[\"dt\"]\n",
    "        # Append the City information into city_data list\n",
    "        city_data.append({\"City\":city_weather['name'],\n",
    "                          \"Lat\": city_lat,\n",
    "                          \"Lng\": city_lng,\n",
    "                          \"Max Temp\": city_max_temp,\n",
    "                          \"Humidity\": city_humidity,\n",
    "                          \"Cloudiness\": city_clouds,\n",
    "                          \"Wind Speed\": city_wind,\n",
    "                          \"Country\": city_country,\n",
    "                          \"Date\": city_date})\n"
   ]
  },
  {
   "cell_type": "code",
   "execution_count": 5,
   "metadata": {},
   "outputs": [],
   "source": [
    "weather_df=pd.DataFrame(city_data)\n",
    "weather_df.to_csv(output_data_file, index=False)"
   ]
  },
  {
   "cell_type": "markdown",
   "metadata": {},
   "source": [
    "## Inspect the data and remove the cities where the humidity > 100%.\n",
    "----\n",
    "Skip this step if there are no cities that have humidity > 100%. "
   ]
  },
  {
   "cell_type": "code",
   "execution_count": 6,
   "metadata": {},
   "outputs": [
    {
     "data": {
      "text/html": [
       "<div>\n",
       "<style scoped>\n",
       "    .dataframe tbody tr th:only-of-type {\n",
       "        vertical-align: middle;\n",
       "    }\n",
       "\n",
       "    .dataframe tbody tr th {\n",
       "        vertical-align: top;\n",
       "    }\n",
       "\n",
       "    .dataframe thead th {\n",
       "        text-align: right;\n",
       "    }\n",
       "</style>\n",
       "<table border=\"1\" class=\"dataframe\">\n",
       "  <thead>\n",
       "    <tr style=\"text-align: right;\">\n",
       "      <th></th>\n",
       "      <th>City</th>\n",
       "      <th>Lat</th>\n",
       "      <th>Lng</th>\n",
       "      <th>Max Temp</th>\n",
       "      <th>Humidity</th>\n",
       "      <th>Cloudiness</th>\n",
       "      <th>Wind Speed</th>\n",
       "      <th>Country</th>\n",
       "      <th>Date</th>\n",
       "    </tr>\n",
       "  </thead>\n",
       "  <tbody>\n",
       "  </tbody>\n",
       "</table>\n",
       "</div>"
      ],
      "text/plain": [
       "Empty DataFrame\n",
       "Columns: [City, Lat, Lng, Max Temp, Humidity, Cloudiness, Wind Speed, Country, Date]\n",
       "Index: []"
      ]
     },
     "execution_count": 6,
     "metadata": {},
     "output_type": "execute_result"
    }
   ],
   "source": [
    "#  Get the indices of cities that have humidity over 100%.\n",
    "weather_df[weather_df['Humidity']>100]"
   ]
  },
  {
   "cell_type": "code",
   "execution_count": 14,
   "metadata": {},
   "outputs": [],
   "source": [
    "# Make a new DataFrame equal to the city data to drop all humidity outliers by index.\n",
    "# Passing \"inplace=False\" will make a copy of the city_data DataFrame, which we call \"clean_city_data\".\n"
   ]
  },
  {
   "cell_type": "markdown",
   "metadata": {},
   "source": [
    "## Plotting the Data\n",
    "* Use proper labeling of the plots using plot titles (including date of analysis) and axes labels.\n",
    "* Save the plotted figures as .pngs."
   ]
  },
  {
   "cell_type": "markdown",
   "metadata": {},
   "source": [
    "## Latitude vs. Temperature Plot"
   ]
  },
  {
   "cell_type": "code",
   "execution_count": 15,
   "metadata": {
    "scrolled": true
   },
   "outputs": [
    {
     "data": {
      "image/png": "[encoded data removed]",
      "text/plain": [
       "<Figure size 432x288 with 1 Axes>"
      ]
     },
     "metadata": {
      "needs_background": "light"
     },
     "output_type": "display_data"
    }
   ],
   "source": [
    "plt.scatter(weather_df[\"Lat\"], weather_df[\"Max Temp\"], marker=\"o\")\n",
    "plt.title(\"Latitude vs. Temperature Plot\")\n",
    "plt.ylabel(\"Max Temp\")\n",
    "plt.xlabel(\"Lat\")\n",
    "plt.grid(True)\n",
    "plt.show()"
   ]
  },
  {
   "cell_type": "markdown",
   "metadata": {},
   "source": [
    "## Latitude vs. Humidity Plot"
   ]
  },
  {
   "cell_type": "code",
   "execution_count": 14,
   "metadata": {},
   "outputs": [
    {
     "data": {
      "image/png": "[encoded data removed]",
      "text/plain": [
       "<Figure size 432x288 with 1 Axes>"
      ]
     },
     "metadata": {
      "needs_background": "light"
     },
     "output_type": "display_data"
    }
   ],
   "source": [
    "plt.scatter(weather_df[\"Lat\"], weather_df[\"Humidity\"], marker=\"o\")\n",
    "plt.title(\"Latitude vs. Humidity Plot\")\n",
    "plt.ylabel(\"Humidity\")\n",
    "plt.xlabel(\"Lat\")\n",
    "plt.grid(True)\n",
    "plt.show()"
   ]
  },
  {
   "cell_type": "markdown",
   "metadata": {},
   "source": [
    "## Latitude vs. Cloudiness Plot"
   ]
  },
  {
   "cell_type": "code",
   "execution_count": 13,
   "metadata": {},
   "outputs": [
    {
     "data": {
      "image/png": "[encoded data removed]",
      "text/plain": [
       "<Figure size 432x288 with 1 Axes>"
      ]
     },
     "metadata": {
      "needs_background": "light"
     },
     "output_type": "display_data"
    }
   ],
   "source": [
    "plt.scatter(weather_df[\"Lat\"], weather_df[\"Cloudiness\"], marker=\"o\")\n",
    "plt.title(\"Latitude vs. Cloudiness Plot\")\n",
    "plt.ylabel(\"Cloudiness\")\n",
    "plt.xlabel(\"Lat\")\n",
    "plt.grid(True)\n",
    "plt.show()"
   ]
  },
  {
   "cell_type": "markdown",
   "metadata": {},
   "source": [
    "## Latitude vs. Wind Speed Plot"
   ]
  },
  {
   "cell_type": "code",
   "execution_count": 16,
   "metadata": {},
   "outputs": [
    {
     "data": {
      "image/png": "[encoded data removed]",
      "text/plain": [
       "<Figure size 432x288 with 1 Axes>"
      ]
     },
     "metadata": {
      "needs_background": "light"
     },
     "output_type": "display_data"
    }
   ],
   "source": [
    "plt.scatter(weather_df[\"Lat\"], weather_df[\"Wind Speed\"], marker=\"o\")\n",
    "plt.title(\"Latitude vs. Wind Speed Plot\")\n",
    "plt.ylabel(\"Wind Speed\")\n",
    "plt.xlabel(\"Lat\")\n",
    "plt.grid(True)\n",
    "plt.show()"
   ]
  },
  {
   "cell_type": "markdown",
   "metadata": {},
   "source": [
    "## Linear Regression"
   ]
  },
  {
   "cell_type": "markdown",
   "metadata": {},
   "source": [
    "####  Northern Hemisphere - Max Temp vs. Latitude Linear Regression"
   ]
  },
  {
   "cell_type": "code",
   "execution_count": 60,
   "metadata": {
    "scrolled": true
   },
   "outputs": [
    {
     "data": {
      "image/png": "[encoded data removed]",
      "text/plain": [
       "<Figure size 432x288 with 1 Axes>"
      ]
     },
     "metadata": {
      "needs_background": "light"
     },
     "output_type": "display_data"
    },
    {
     "name": "stdout",
     "output_type": "stream",
     "text": [
      "The r-value is: -0.3127803686236088\n"
     ]
    }
   ],
   "source": [
    "x_values = weather_df['Lat']>=0\n",
    "y_values = weather_df['Max Temp']\n",
    "(slope, intercept, rvalue, pvalue, stderr) = linregress(x_values, y_values)\n",
    "regress_values = x_values * slope + intercept\n",
    "line_eq = \"y = \" + str(round(slope,2)) + \"x + \" + str(round(intercept,2))\n",
    "plt.scatter(x_values,y_values)\n",
    "plt.plot(x_values,regress_values,\"r-\")\n",
    "plt.annotate(line_eq,(1,2),fontsize=15,color=\"red\")\n",
    "plt.xlabel('Latitude')\n",
    "plt.ylabel('Max Temp')\n",
    "plt.show()\n",
    "\n",
    "print(f\"The r-value is: {rvalue}\")"
   ]
  },
  {
   "cell_type": "markdown",
   "metadata": {},
   "source": [
    "####  Southern Hemisphere - Max Temp vs. Latitude Linear Regression"
   ]
  },
  {
   "cell_type": "code",
   "execution_count": 56,
   "metadata": {},
   "outputs": [
    {
     "data": {
      "image/png": "[encoded data removed]",
      "text/plain": [
       "<Figure size 432x288 with 1 Axes>"
      ]
     },
     "metadata": {
      "needs_background": "light"
     },
     "output_type": "display_data"
    },
    {
     "name": "stdout",
     "output_type": "stream",
     "text": [
      "The r-value is: 0.31278036862360886\n"
     ]
    }
   ],
   "source": [
    "x_values = weather_df['Lat']<0\n",
    "y_values = weather_df['Max Temp']\n",
    "(slope, intercept, rvalue, pvalue, stderr) = linregress(x_values, y_values)\n",
    "regress_values = x_values * slope + intercept\n",
    "line_eq = \"y = \" + str(round(slope,2)) + \"x + \" + str(round(intercept,2))\n",
    "plt.scatter(x_values,y_values)\n",
    "plt.plot(x_values,regress_values,\"r-\")\n",
    "plt.annotate(line_eq,(1,2),fontsize=15,color=\"red\")\n",
    "plt.xlabel('Latitude')\n",
    "plt.ylabel('Max Temp')\n",
    "plt.show()\n",
    "print(f\"The r-value is: {rvalue}\")"
   ]
  },
  {
   "cell_type": "markdown",
   "metadata": {},
   "source": [
    "####  Northern Hemisphere - Humidity (%) vs. Latitude Linear Regression"
   ]
  },
  {
   "cell_type": "code",
   "execution_count": 57,
   "metadata": {},
   "outputs": [
    {
     "data": {
      "image/png": "[encoded data removed]",
      "text/plain": [
       "<Figure size 432x288 with 1 Axes>"
      ]
     },
     "metadata": {
      "needs_background": "light"
     },
     "output_type": "display_data"
    },
    {
     "name": "stdout",
     "output_type": "stream",
     "text": [
      "The r-value is: -0.03990608518352176\n"
     ]
    }
   ],
   "source": [
    "x_values = weather_df['Lat']>=0\n",
    "y_values = weather_df['Humidity']\n",
    "(slope, intercept, rvalue, pvalue, stderr) = linregress(x_values, y_values)\n",
    "regress_values = x_values * slope + intercept\n",
    "line_eq = \"y = \" + str(round(slope,2)) + \"x + \" + str(round(intercept,2))\n",
    "plt.scatter(x_values,y_values)\n",
    "plt.plot(x_values,regress_values,\"r-\")\n",
    "plt.annotate(line_eq,(1,2),fontsize=15,color=\"red\")\n",
    "plt.xlabel('Latitude')\n",
    "plt.ylabel('Humidity')\n",
    "plt.show()\n",
    "print(f\"The r-value is: {rvalue}\")"
   ]
  },
  {
   "cell_type": "markdown",
   "metadata": {},
   "source": [
    "####  Southern Hemisphere - Humidity (%) vs. Latitude Linear Regression"
   ]
  },
  {
   "cell_type": "code",
   "execution_count": 45,
   "metadata": {},
   "outputs": [
    {
     "data": {
      "image/png": "[encoded data removed]",
      "text/plain": [
       "<Figure size 432x288 with 1 Axes>"
      ]
     },
     "metadata": {
      "needs_background": "light"
     },
     "output_type": "display_data"
    },
    {
     "name": "stdout",
     "output_type": "stream",
     "text": [
      "0.03990608518352176\n"
     ]
    }
   ],
   "source": [
    "x_values = weather_df['Lat']<0\n",
    "y_values = weather_df['Humidity']\n",
    "(slope, intercept, rvalue, pvalue, stderr) = linregress(x_values, y_values)\n",
    "regress_values = x_values * slope + intercept\n",
    "line_eq = \"y = \" + str(round(slope,2)) + \"x + \" + str(round(intercept,2))\n",
    "plt.scatter(x_values,y_values)\n",
    "plt.plot(x_values,regress_values,\"r-\")\n",
    "plt.annotate(line_eq,(1,2),fontsize=15,color=\"red\")\n",
    "plt.xlabel('Latitude')\n",
    "plt.ylabel('Humidity')\n",
    "plt.show()\n",
    "print(f\"The r-value is: {rvalue}\")"
   ]
  },
  {
   "cell_type": "markdown",
   "metadata": {},
   "source": [
    "####  Northern Hemisphere - Cloudiness (%) vs. Latitude Linear Regression"
   ]
  },
  {
   "cell_type": "code",
   "execution_count": 46,
   "metadata": {},
   "outputs": [
    {
     "data": {
      "image/png": "[encoded data removed]",
      "text/plain": [
       "<Figure size 432x288 with 1 Axes>"
      ]
     },
     "metadata": {
      "needs_background": "light"
     },
     "output_type": "display_data"
    },
    {
     "name": "stdout",
     "output_type": "stream",
     "text": [
      "0.03990608518352176\n"
     ]
    }
   ],
   "source": [
    "x_values = weather_df['Lat']>=0\n",
    "y_values = weather_df['Cloudiness']\n",
    "(slope, intercept, rvalue, pvalue, stderr) = linregress(x_values, y_values)\n",
    "regress_values = x_values * slope + intercept\n",
    "line_eq = \"y = \" + str(round(slope,2)) + \"x + \" + str(round(intercept,2))\n",
    "plt.scatter(x_values,y_values)\n",
    "plt.plot(x_values,regress_values,\"r-\")\n",
    "plt.annotate(line_eq,(1,2),fontsize=15,color=\"red\")\n",
    "plt.xlabel('Latitude')\n",
    "plt.ylabel('Cloudiness')\n",
    "plt.show()\n",
    "print(f\"The r-value is: {rvalue}\"))"
   ]
  },
  {
   "cell_type": "markdown",
   "metadata": {},
   "source": [
    "####  Southern Hemisphere - Cloudiness (%) vs. Latitude Linear Regression"
   ]
  },
  {
   "cell_type": "code",
   "execution_count": 49,
   "metadata": {},
   "outputs": [
    {
     "data": {
      "image/png": "[encoded data removed]",
      "text/plain": [
       "<Figure size 432x288 with 1 Axes>"
      ]
     },
     "metadata": {
      "needs_background": "light"
     },
     "output_type": "display_data"
    },
    {
     "name": "stdout",
     "output_type": "stream",
     "text": [
      "0.03990608518352176\n"
     ]
    }
   ],
   "source": [
    "x_values = weather_df['Lat']<0\n",
    "y_values = weather_df['Cloudiness']\n",
    "(slope, intercept, rvalue, pvalue, stderr) = linregress(x_values, y_values)\n",
    "regress_values = x_values * slope + intercept\n",
    "line_eq = \"y = \" + str(round(slope,2)) + \"x + \" + str(round(intercept,2))\n",
    "plt.scatter(x_values,y_values)\n",
    "plt.plot(x_values,regress_values,\"r-\")\n",
    "plt.annotate(line_eq,(1,2),fontsize=15,color=\"red\")\n",
    "plt.xlabel('Latitude')\n",
    "plt.ylabel('Cloudiness')\n",
    "plt.show()\n",
    "print(f\"The r-value is: {rvalue}\")"
   ]
  },
  {
   "cell_type": "markdown",
   "metadata": {},
   "source": [
    "####  Northern Hemisphere - Wind Speed (mph) vs. Latitude Linear Regression"
   ]
  },
  {
   "cell_type": "code",
   "execution_count": 47,
   "metadata": {},
   "outputs": [
    {
     "data": {
      "image/png": "[encoded data removed]",
      "text/plain": [
       "<Figure size 432x288 with 1 Axes>"
      ]
     },
     "metadata": {
      "needs_background": "light"
     },
     "output_type": "display_data"
    },
    {
     "name": "stdout",
     "output_type": "stream",
     "text": [
      "0.03990608518352176\n"
     ]
    }
   ],
   "source": [
    "x_values = weather_df['Lat']>=0\n",
    "y_values = weather_df['Wind Speed']\n",
    "(slope, intercept, rvalue, pvalue, stderr) = linregress(x_values, y_values)\n",
    "regress_values = x_values * slope + intercept\n",
    "line_eq = \"y = \" + str(round(slope,2)) + \"x + \" + str(round(intercept,2))\n",
    "plt.scatter(x_values,y_values)\n",
    "plt.plot(x_values,regress_values,\"r-\")\n",
    "plt.annotate(line_eq,(1,2),fontsize=15,color=\"red\")\n",
    "plt.xlabel('Latitude')\n",
    "plt.ylabel('Wind Speed')\n",
    "plt.show()\n",
    "print(f\"The r-value is: {rvalue}\")"
   ]
  },
  {
   "cell_type": "markdown",
   "metadata": {},
   "source": [
    "####  Southern Hemisphere - Wind Speed (mph) vs. Latitude Linear Regression"
   ]
  },
  {
   "cell_type": "code",
   "execution_count": 48,
   "metadata": {},
   "outputs": [
    {
     "data": {
      "image/png": "[encoded data removed]",
      "text/plain": [
       "<Figure size 432x288 with 1 Axes>"
      ]
     },
     "metadata": {
      "needs_background": "light"
     },
     "output_type": "display_data"
    },
    {
     "name": "stdout",
     "output_type": "stream",
     "text": [
      "0.03990608518352176\n"
     ]
    }
   ],
   "source": [
    "x_values = weather_df['Lat']<0\n",
    "y_values = weather_df['Wind Speed']\n",
    "(slope, intercept, rvalue, pvalue, stderr) = linregress(x_values, y_values)\n",
    "regress_values = x_values * slope + intercept\n",
    "line_eq = \"y = \" + str(round(slope,2)) + \"x + \" + str(round(intercept,2))\n",
    "plt.scatter(x_values,y_values)\n",
    "plt.plot(x_values,regress_values,\"r-\")\n",
    "plt.annotate(line_eq,(1,2),fontsize=15,color=\"red\")\n",
    "plt.xlabel('Latitude')\n",
    "plt.ylabel('Wind Speed')\n",
    "plt.show()\n",
    "print(f\"The r-value is: {rvalue}\")"
   ]
  },
  {
   "cell_type": "code",
   "execution_count": null,
   "metadata": {},
   "outputs": [],
   "source": []
  }
 ],
 "metadata": {
  "anaconda-cloud": {},
  "kernel_info": {
   "name": "python3"
  },
  "kernelspec": {
   "display_name": "Python 3",
   "language": "python",
   "name": "python3"
  },
  "language_info": {
   "codemirror_mode": {
    "name": "ipython",
    "version": 3
   },
   "file_extension": ".py",
   "mimetype": "text/x-python",
   "name": "python",
   "nbconvert_exporter": "python",
   "pygments_lexer": "ipython3",
   "version": "3.8.3"
  },
  "latex_envs": {
   "LaTeX_envs_menu_present": true,
   "autoclose": false,
   "autocomplete": true,
   "bibliofile": "biblio.bib",
   "cite_by": "apalike",
   "current_citInitial": 1,
   "eqLabelWithNumbers": true,
   "eqNumInitial": 1,
   "hotkeys": {
    "equation": "Ctrl-E",
    "itemize": "Ctrl-I"
   },
   "labels_anchors": false,
   "latex_user_defs": false,
   "report_style_numbering": false,
   "user_envs_cfg": false
  },
  "nteract": {
   "version": "0.12.3"
  }
 },
 "nbformat": 4,
 "nbformat_minor": 2
}
